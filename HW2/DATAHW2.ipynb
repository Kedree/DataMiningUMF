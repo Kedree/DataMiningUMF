{
  "nbformat": 4,
  "nbformat_minor": 0,
  "metadata": {
    "colab": {
      "provenance": []
    },
    "kernelspec": {
      "name": "python3",
      "display_name": "Python 3"
    },
    "language_info": {
      "name": "python"
    }
  },
  "cells": [
    {
      "cell_type": "markdown",
      "source": [
        "2. Write a program in any language which can compute Manhattan and Euclidean distances between any two given vec-\n",
        "tors with any length. You can pass the length to your function, but please don’t limit the dimension to 2. You can test\n",
        "your function on vectors you fill in your code without asking user input. (25/20 points)"
      ],
      "metadata": {
        "id": "yZMCq4sG47Fc"
      }
    },
    {
      "cell_type": "code",
      "source": [
        "from math import sqrt as sqrt"
      ],
      "metadata": {
        "id": "4vsHaFwn6a55"
      },
      "execution_count": 19,
      "outputs": []
    },
    {
      "cell_type": "code",
      "execution_count": 49,
      "metadata": {
        "id": "YgjtEIzI4z_w"
      },
      "outputs": [],
      "source": [
        "def distance(v1, v2, h):\n",
        "    return((sum(abs(x-y)**h for x,y in zip(v1, v2)))**(1/h))"
      ]
    },
    {
      "cell_type": "code",
      "source": [
        "v1 = [1, 2, 3]\n",
        "v2 = [3, 4, 5]\n",
        "\n",
        "print(\"Manhatten Distance for h = 1:\\t{}\\nEuclidean Distance for h = 2:\\t{}\\nMinkowski Distance for h = 3:\\t{}\\nMinkowski Distance for h = 4:\\t{}\". format(*list((round(distance(v1,v2,h),2) for h in [1,2,3, 4]))))"
      ],
      "metadata": {
        "colab": {
          "base_uri": "https://localhost:8080/"
        },
        "id": "wcjozpYt9NYW",
        "outputId": "1a3f4f35-388a-4d07-8260-342dbfbf75b7"
      },
      "execution_count": 83,
      "outputs": [
        {
          "output_type": "stream",
          "name": "stdout",
          "text": [
            "Manhatten Distance for h = 1:\t6.0\n",
            "Euclidean Distance for h = 2:\t3.46\n",
            "Minkowski Distance for h = 3:\t2.88\n",
            "Minkowski Distance for h = 4:\t2.63\n"
          ]
        }
      ]
    },
    {
      "cell_type": "code",
      "source": [],
      "metadata": {
        "id": "kelwLnXmBHNH"
      },
      "execution_count": null,
      "outputs": []
    }
  ]
}