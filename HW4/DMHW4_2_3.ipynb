{
  "cells": [
    {
      "cell_type": "markdown",
      "source": [
        "# 2\n",
        "\n",
        "By using Python Notebooks on Canvas, split your diabetes data into two parts for training and testing purposes. Namely,\n",
        "reserve last 10 rows of the diabetes_train.csv for the test set. Then fit a SVM classifier on the bigger portion of this data\n",
        "and test it on these 10 rows you had reserved. Please feel free to modify existing codes. Notice that you’re not going to\n",
        "read diabetes_test.csv anymore since you’re going to split the bigger data. Please submit your Python code and your\n",
        "prediction results. (25pts)"
      ],
      "metadata": {
        "id": "kohalB_cVAXr"
      }
    },
    {
      "cell_type": "code",
      "execution_count": 2,
      "metadata": {
        "id": "IjW1jnM7s0PH"
      },
      "outputs": [],
      "source": [
        "from sklearn import svm\n",
        "import pandas as pd\n",
        "import numpy as np\n",
        "\n",
        "C=1e+03\n",
        "gamma=1e-05\n",
        "clf = svm.SVC(C=C, gamma=gamma, kernel='rbf', probability=True)"
      ]
    },
    {
      "cell_type": "code",
      "execution_count": 14,
      "metadata": {
        "id": "NSb6nX5fs0PL"
      },
      "outputs": [],
      "source": [
        "import pandas as pd\n",
        "train = pd.read_csv('/content/diabetes_train.csv') #this is our dataset, please change the path for your case\n",
        "test = train.iloc[-10:]\n",
        "train = train.iloc[:-10]"
      ]
    },
    {
      "cell_type": "code",
      "source": [
        "train"
      ],
      "metadata": {
        "colab": {
          "base_uri": "https://localhost:8080/",
          "height": 424
        },
        "id": "8kNLzvYKs6SE",
        "outputId": "98fc82f0-02be-4336-c958-ad5320a156ba"
      },
      "execution_count": 15,
      "outputs": [
        {
          "output_type": "execute_result",
          "data": {
            "text/plain": [
              "     preg  plas  pres  skin  insu  mass   pedi  age            class\n",
              "0       6   148    72    35     0  33.6  0.627   50  tested_positive\n",
              "1       1    85    66    29     0  26.6  0.351   31  tested_negative\n",
              "2       8   183    64     0     0  23.3  0.672   32  tested_positive\n",
              "3       1    89    66    23    94  28.1  0.167   21  tested_negative\n",
              "4       0   137    40    35   168  43.1  2.288   33  tested_positive\n",
              "..    ...   ...   ...   ...   ...   ...    ...  ...              ...\n",
              "743     9   140    94     0     0  32.7  0.734   45  tested_positive\n",
              "744    13   153    88    37   140  40.6  1.174   39  tested_negative\n",
              "745    12   100    84    33   105  30.0  0.488   46  tested_negative\n",
              "746     1   147    94    41     0  49.3  0.358   27  tested_positive\n",
              "747     1    81    74    41    57  46.3  1.096   32  tested_negative\n",
              "\n",
              "[748 rows x 9 columns]"
            ],
            "text/html": [
              "\n",
              "  <div id=\"df-eaa07b64-c0bc-44bb-a29a-f88e3cf16d16\">\n",
              "    <div class=\"colab-df-container\">\n",
              "      <div>\n",
              "<style scoped>\n",
              "    .dataframe tbody tr th:only-of-type {\n",
              "        vertical-align: middle;\n",
              "    }\n",
              "\n",
              "    .dataframe tbody tr th {\n",
              "        vertical-align: top;\n",
              "    }\n",
              "\n",
              "    .dataframe thead th {\n",
              "        text-align: right;\n",
              "    }\n",
              "</style>\n",
              "<table border=\"1\" class=\"dataframe\">\n",
              "  <thead>\n",
              "    <tr style=\"text-align: right;\">\n",
              "      <th></th>\n",
              "      <th>preg</th>\n",
              "      <th>plas</th>\n",
              "      <th>pres</th>\n",
              "      <th>skin</th>\n",
              "      <th>insu</th>\n",
              "      <th>mass</th>\n",
              "      <th>pedi</th>\n",
              "      <th>age</th>\n",
              "      <th>class</th>\n",
              "    </tr>\n",
              "  </thead>\n",
              "  <tbody>\n",
              "    <tr>\n",
              "      <th>0</th>\n",
              "      <td>6</td>\n",
              "      <td>148</td>\n",
              "      <td>72</td>\n",
              "      <td>35</td>\n",
              "      <td>0</td>\n",
              "      <td>33.6</td>\n",
              "      <td>0.627</td>\n",
              "      <td>50</td>\n",
              "      <td>tested_positive</td>\n",
              "    </tr>\n",
              "    <tr>\n",
              "      <th>1</th>\n",
              "      <td>1</td>\n",
              "      <td>85</td>\n",
              "      <td>66</td>\n",
              "      <td>29</td>\n",
              "      <td>0</td>\n",
              "      <td>26.6</td>\n",
              "      <td>0.351</td>\n",
              "      <td>31</td>\n",
              "      <td>tested_negative</td>\n",
              "    </tr>\n",
              "    <tr>\n",
              "      <th>2</th>\n",
              "      <td>8</td>\n",
              "      <td>183</td>\n",
              "      <td>64</td>\n",
              "      <td>0</td>\n",
              "      <td>0</td>\n",
              "      <td>23.3</td>\n",
              "      <td>0.672</td>\n",
              "      <td>32</td>\n",
              "      <td>tested_positive</td>\n",
              "    </tr>\n",
              "    <tr>\n",
              "      <th>3</th>\n",
              "      <td>1</td>\n",
              "      <td>89</td>\n",
              "      <td>66</td>\n",
              "      <td>23</td>\n",
              "      <td>94</td>\n",
              "      <td>28.1</td>\n",
              "      <td>0.167</td>\n",
              "      <td>21</td>\n",
              "      <td>tested_negative</td>\n",
              "    </tr>\n",
              "    <tr>\n",
              "      <th>4</th>\n",
              "      <td>0</td>\n",
              "      <td>137</td>\n",
              "      <td>40</td>\n",
              "      <td>35</td>\n",
              "      <td>168</td>\n",
              "      <td>43.1</td>\n",
              "      <td>2.288</td>\n",
              "      <td>33</td>\n",
              "      <td>tested_positive</td>\n",
              "    </tr>\n",
              "    <tr>\n",
              "      <th>...</th>\n",
              "      <td>...</td>\n",
              "      <td>...</td>\n",
              "      <td>...</td>\n",
              "      <td>...</td>\n",
              "      <td>...</td>\n",
              "      <td>...</td>\n",
              "      <td>...</td>\n",
              "      <td>...</td>\n",
              "      <td>...</td>\n",
              "    </tr>\n",
              "    <tr>\n",
              "      <th>743</th>\n",
              "      <td>9</td>\n",
              "      <td>140</td>\n",
              "      <td>94</td>\n",
              "      <td>0</td>\n",
              "      <td>0</td>\n",
              "      <td>32.7</td>\n",
              "      <td>0.734</td>\n",
              "      <td>45</td>\n",
              "      <td>tested_positive</td>\n",
              "    </tr>\n",
              "    <tr>\n",
              "      <th>744</th>\n",
              "      <td>13</td>\n",
              "      <td>153</td>\n",
              "      <td>88</td>\n",
              "      <td>37</td>\n",
              "      <td>140</td>\n",
              "      <td>40.6</td>\n",
              "      <td>1.174</td>\n",
              "      <td>39</td>\n",
              "      <td>tested_negative</td>\n",
              "    </tr>\n",
              "    <tr>\n",
              "      <th>745</th>\n",
              "      <td>12</td>\n",
              "      <td>100</td>\n",
              "      <td>84</td>\n",
              "      <td>33</td>\n",
              "      <td>105</td>\n",
              "      <td>30.0</td>\n",
              "      <td>0.488</td>\n",
              "      <td>46</td>\n",
              "      <td>tested_negative</td>\n",
              "    </tr>\n",
              "    <tr>\n",
              "      <th>746</th>\n",
              "      <td>1</td>\n",
              "      <td>147</td>\n",
              "      <td>94</td>\n",
              "      <td>41</td>\n",
              "      <td>0</td>\n",
              "      <td>49.3</td>\n",
              "      <td>0.358</td>\n",
              "      <td>27</td>\n",
              "      <td>tested_positive</td>\n",
              "    </tr>\n",
              "    <tr>\n",
              "      <th>747</th>\n",
              "      <td>1</td>\n",
              "      <td>81</td>\n",
              "      <td>74</td>\n",
              "      <td>41</td>\n",
              "      <td>57</td>\n",
              "      <td>46.3</td>\n",
              "      <td>1.096</td>\n",
              "      <td>32</td>\n",
              "      <td>tested_negative</td>\n",
              "    </tr>\n",
              "  </tbody>\n",
              "</table>\n",
              "<p>748 rows × 9 columns</p>\n",
              "</div>\n",
              "      <button class=\"colab-df-convert\" onclick=\"convertToInteractive('df-eaa07b64-c0bc-44bb-a29a-f88e3cf16d16')\"\n",
              "              title=\"Convert this dataframe to an interactive table.\"\n",
              "              style=\"display:none;\">\n",
              "        \n",
              "  <svg xmlns=\"http://www.w3.org/2000/svg\" height=\"24px\"viewBox=\"0 0 24 24\"\n",
              "       width=\"24px\">\n",
              "    <path d=\"M0 0h24v24H0V0z\" fill=\"none\"/>\n",
              "    <path d=\"M18.56 5.44l.94 2.06.94-2.06 2.06-.94-2.06-.94-.94-2.06-.94 2.06-2.06.94zm-11 1L8.5 8.5l.94-2.06 2.06-.94-2.06-.94L8.5 2.5l-.94 2.06-2.06.94zm10 10l.94 2.06.94-2.06 2.06-.94-2.06-.94-.94-2.06-.94 2.06-2.06.94z\"/><path d=\"M17.41 7.96l-1.37-1.37c-.4-.4-.92-.59-1.43-.59-.52 0-1.04.2-1.43.59L10.3 9.45l-7.72 7.72c-.78.78-.78 2.05 0 2.83L4 21.41c.39.39.9.59 1.41.59.51 0 1.02-.2 1.41-.59l7.78-7.78 2.81-2.81c.8-.78.8-2.07 0-2.86zM5.41 20L4 18.59l7.72-7.72 1.47 1.35L5.41 20z\"/>\n",
              "  </svg>\n",
              "      </button>\n",
              "      \n",
              "  <style>\n",
              "    .colab-df-container {\n",
              "      display:flex;\n",
              "      flex-wrap:wrap;\n",
              "      gap: 12px;\n",
              "    }\n",
              "\n",
              "    .colab-df-convert {\n",
              "      background-color: #E8F0FE;\n",
              "      border: none;\n",
              "      border-radius: 50%;\n",
              "      cursor: pointer;\n",
              "      display: none;\n",
              "      fill: #1967D2;\n",
              "      height: 32px;\n",
              "      padding: 0 0 0 0;\n",
              "      width: 32px;\n",
              "    }\n",
              "\n",
              "    .colab-df-convert:hover {\n",
              "      background-color: #E2EBFA;\n",
              "      box-shadow: 0px 1px 2px rgba(60, 64, 67, 0.3), 0px 1px 3px 1px rgba(60, 64, 67, 0.15);\n",
              "      fill: #174EA6;\n",
              "    }\n",
              "\n",
              "    [theme=dark] .colab-df-convert {\n",
              "      background-color: #3B4455;\n",
              "      fill: #D2E3FC;\n",
              "    }\n",
              "\n",
              "    [theme=dark] .colab-df-convert:hover {\n",
              "      background-color: #434B5C;\n",
              "      box-shadow: 0px 1px 3px 1px rgba(0, 0, 0, 0.15);\n",
              "      filter: drop-shadow(0px 1px 2px rgba(0, 0, 0, 0.3));\n",
              "      fill: #FFFFFF;\n",
              "    }\n",
              "  </style>\n",
              "\n",
              "      <script>\n",
              "        const buttonEl =\n",
              "          document.querySelector('#df-eaa07b64-c0bc-44bb-a29a-f88e3cf16d16 button.colab-df-convert');\n",
              "        buttonEl.style.display =\n",
              "          google.colab.kernel.accessAllowed ? 'block' : 'none';\n",
              "\n",
              "        async function convertToInteractive(key) {\n",
              "          const element = document.querySelector('#df-eaa07b64-c0bc-44bb-a29a-f88e3cf16d16');\n",
              "          const dataTable =\n",
              "            await google.colab.kernel.invokeFunction('convertToInteractive',\n",
              "                                                     [key], {});\n",
              "          if (!dataTable) return;\n",
              "\n",
              "          const docLinkHtml = 'Like what you see? Visit the ' +\n",
              "            '<a target=\"_blank\" href=https://colab.research.google.com/notebooks/data_table.ipynb>data table notebook</a>'\n",
              "            + ' to learn more about interactive tables.';\n",
              "          element.innerHTML = '';\n",
              "          dataTable['output_type'] = 'display_data';\n",
              "          await google.colab.output.renderOutput(dataTable, element);\n",
              "          const docLink = document.createElement('div');\n",
              "          docLink.innerHTML = docLinkHtml;\n",
              "          element.appendChild(docLink);\n",
              "        }\n",
              "      </script>\n",
              "    </div>\n",
              "  </div>\n",
              "  "
            ]
          },
          "metadata": {},
          "execution_count": 15
        }
      ]
    },
    {
      "cell_type": "code",
      "source": [
        "test"
      ],
      "metadata": {
        "colab": {
          "base_uri": "https://localhost:8080/",
          "height": 363
        },
        "id": "aM6kE2YluSZ2",
        "outputId": "ee8f44e4-da87-4702-8eec-2e2f6d891e6e"
      },
      "execution_count": 16,
      "outputs": [
        {
          "output_type": "execute_result",
          "data": {
            "text/plain": [
              "     preg  plas  pres  skin  insu  mass   pedi  age            class\n",
              "748     3   187    70    22   200  36.4  0.408   36  tested_positive\n",
              "749     6   162    62     0     0  24.3  0.178   50  tested_positive\n",
              "750     4   136    70     0     0  31.2  1.182   22  tested_positive\n",
              "751     1   121    78    39    74  39.0  0.261   28  tested_negative\n",
              "752     3   108    62    24     0  26.0  0.223   25  tested_negative\n",
              "753     0   181    88    44   510  43.3  0.222   26  tested_positive\n",
              "754     8   154    78    32     0  32.4  0.443   45  tested_positive\n",
              "755     1   128    88    39   110  36.5  1.057   37  tested_positive\n",
              "756     7   137    90    41     0  32.0  0.391   39  tested_negative\n",
              "757     0   123    72     0     0  36.3  0.258   52  tested_positive"
            ],
            "text/html": [
              "\n",
              "  <div id=\"df-c82d1f50-d6f8-4aca-8139-65deec4543a9\">\n",
              "    <div class=\"colab-df-container\">\n",
              "      <div>\n",
              "<style scoped>\n",
              "    .dataframe tbody tr th:only-of-type {\n",
              "        vertical-align: middle;\n",
              "    }\n",
              "\n",
              "    .dataframe tbody tr th {\n",
              "        vertical-align: top;\n",
              "    }\n",
              "\n",
              "    .dataframe thead th {\n",
              "        text-align: right;\n",
              "    }\n",
              "</style>\n",
              "<table border=\"1\" class=\"dataframe\">\n",
              "  <thead>\n",
              "    <tr style=\"text-align: right;\">\n",
              "      <th></th>\n",
              "      <th>preg</th>\n",
              "      <th>plas</th>\n",
              "      <th>pres</th>\n",
              "      <th>skin</th>\n",
              "      <th>insu</th>\n",
              "      <th>mass</th>\n",
              "      <th>pedi</th>\n",
              "      <th>age</th>\n",
              "      <th>class</th>\n",
              "    </tr>\n",
              "  </thead>\n",
              "  <tbody>\n",
              "    <tr>\n",
              "      <th>748</th>\n",
              "      <td>3</td>\n",
              "      <td>187</td>\n",
              "      <td>70</td>\n",
              "      <td>22</td>\n",
              "      <td>200</td>\n",
              "      <td>36.4</td>\n",
              "      <td>0.408</td>\n",
              "      <td>36</td>\n",
              "      <td>tested_positive</td>\n",
              "    </tr>\n",
              "    <tr>\n",
              "      <th>749</th>\n",
              "      <td>6</td>\n",
              "      <td>162</td>\n",
              "      <td>62</td>\n",
              "      <td>0</td>\n",
              "      <td>0</td>\n",
              "      <td>24.3</td>\n",
              "      <td>0.178</td>\n",
              "      <td>50</td>\n",
              "      <td>tested_positive</td>\n",
              "    </tr>\n",
              "    <tr>\n",
              "      <th>750</th>\n",
              "      <td>4</td>\n",
              "      <td>136</td>\n",
              "      <td>70</td>\n",
              "      <td>0</td>\n",
              "      <td>0</td>\n",
              "      <td>31.2</td>\n",
              "      <td>1.182</td>\n",
              "      <td>22</td>\n",
              "      <td>tested_positive</td>\n",
              "    </tr>\n",
              "    <tr>\n",
              "      <th>751</th>\n",
              "      <td>1</td>\n",
              "      <td>121</td>\n",
              "      <td>78</td>\n",
              "      <td>39</td>\n",
              "      <td>74</td>\n",
              "      <td>39.0</td>\n",
              "      <td>0.261</td>\n",
              "      <td>28</td>\n",
              "      <td>tested_negative</td>\n",
              "    </tr>\n",
              "    <tr>\n",
              "      <th>752</th>\n",
              "      <td>3</td>\n",
              "      <td>108</td>\n",
              "      <td>62</td>\n",
              "      <td>24</td>\n",
              "      <td>0</td>\n",
              "      <td>26.0</td>\n",
              "      <td>0.223</td>\n",
              "      <td>25</td>\n",
              "      <td>tested_negative</td>\n",
              "    </tr>\n",
              "    <tr>\n",
              "      <th>753</th>\n",
              "      <td>0</td>\n",
              "      <td>181</td>\n",
              "      <td>88</td>\n",
              "      <td>44</td>\n",
              "      <td>510</td>\n",
              "      <td>43.3</td>\n",
              "      <td>0.222</td>\n",
              "      <td>26</td>\n",
              "      <td>tested_positive</td>\n",
              "    </tr>\n",
              "    <tr>\n",
              "      <th>754</th>\n",
              "      <td>8</td>\n",
              "      <td>154</td>\n",
              "      <td>78</td>\n",
              "      <td>32</td>\n",
              "      <td>0</td>\n",
              "      <td>32.4</td>\n",
              "      <td>0.443</td>\n",
              "      <td>45</td>\n",
              "      <td>tested_positive</td>\n",
              "    </tr>\n",
              "    <tr>\n",
              "      <th>755</th>\n",
              "      <td>1</td>\n",
              "      <td>128</td>\n",
              "      <td>88</td>\n",
              "      <td>39</td>\n",
              "      <td>110</td>\n",
              "      <td>36.5</td>\n",
              "      <td>1.057</td>\n",
              "      <td>37</td>\n",
              "      <td>tested_positive</td>\n",
              "    </tr>\n",
              "    <tr>\n",
              "      <th>756</th>\n",
              "      <td>7</td>\n",
              "      <td>137</td>\n",
              "      <td>90</td>\n",
              "      <td>41</td>\n",
              "      <td>0</td>\n",
              "      <td>32.0</td>\n",
              "      <td>0.391</td>\n",
              "      <td>39</td>\n",
              "      <td>tested_negative</td>\n",
              "    </tr>\n",
              "    <tr>\n",
              "      <th>757</th>\n",
              "      <td>0</td>\n",
              "      <td>123</td>\n",
              "      <td>72</td>\n",
              "      <td>0</td>\n",
              "      <td>0</td>\n",
              "      <td>36.3</td>\n",
              "      <td>0.258</td>\n",
              "      <td>52</td>\n",
              "      <td>tested_positive</td>\n",
              "    </tr>\n",
              "  </tbody>\n",
              "</table>\n",
              "</div>\n",
              "      <button class=\"colab-df-convert\" onclick=\"convertToInteractive('df-c82d1f50-d6f8-4aca-8139-65deec4543a9')\"\n",
              "              title=\"Convert this dataframe to an interactive table.\"\n",
              "              style=\"display:none;\">\n",
              "        \n",
              "  <svg xmlns=\"http://www.w3.org/2000/svg\" height=\"24px\"viewBox=\"0 0 24 24\"\n",
              "       width=\"24px\">\n",
              "    <path d=\"M0 0h24v24H0V0z\" fill=\"none\"/>\n",
              "    <path d=\"M18.56 5.44l.94 2.06.94-2.06 2.06-.94-2.06-.94-.94-2.06-.94 2.06-2.06.94zm-11 1L8.5 8.5l.94-2.06 2.06-.94-2.06-.94L8.5 2.5l-.94 2.06-2.06.94zm10 10l.94 2.06.94-2.06 2.06-.94-2.06-.94-.94-2.06-.94 2.06-2.06.94z\"/><path d=\"M17.41 7.96l-1.37-1.37c-.4-.4-.92-.59-1.43-.59-.52 0-1.04.2-1.43.59L10.3 9.45l-7.72 7.72c-.78.78-.78 2.05 0 2.83L4 21.41c.39.39.9.59 1.41.59.51 0 1.02-.2 1.41-.59l7.78-7.78 2.81-2.81c.8-.78.8-2.07 0-2.86zM5.41 20L4 18.59l7.72-7.72 1.47 1.35L5.41 20z\"/>\n",
              "  </svg>\n",
              "      </button>\n",
              "      \n",
              "  <style>\n",
              "    .colab-df-container {\n",
              "      display:flex;\n",
              "      flex-wrap:wrap;\n",
              "      gap: 12px;\n",
              "    }\n",
              "\n",
              "    .colab-df-convert {\n",
              "      background-color: #E8F0FE;\n",
              "      border: none;\n",
              "      border-radius: 50%;\n",
              "      cursor: pointer;\n",
              "      display: none;\n",
              "      fill: #1967D2;\n",
              "      height: 32px;\n",
              "      padding: 0 0 0 0;\n",
              "      width: 32px;\n",
              "    }\n",
              "\n",
              "    .colab-df-convert:hover {\n",
              "      background-color: #E2EBFA;\n",
              "      box-shadow: 0px 1px 2px rgba(60, 64, 67, 0.3), 0px 1px 3px 1px rgba(60, 64, 67, 0.15);\n",
              "      fill: #174EA6;\n",
              "    }\n",
              "\n",
              "    [theme=dark] .colab-df-convert {\n",
              "      background-color: #3B4455;\n",
              "      fill: #D2E3FC;\n",
              "    }\n",
              "\n",
              "    [theme=dark] .colab-df-convert:hover {\n",
              "      background-color: #434B5C;\n",
              "      box-shadow: 0px 1px 3px 1px rgba(0, 0, 0, 0.15);\n",
              "      filter: drop-shadow(0px 1px 2px rgba(0, 0, 0, 0.3));\n",
              "      fill: #FFFFFF;\n",
              "    }\n",
              "  </style>\n",
              "\n",
              "      <script>\n",
              "        const buttonEl =\n",
              "          document.querySelector('#df-c82d1f50-d6f8-4aca-8139-65deec4543a9 button.colab-df-convert');\n",
              "        buttonEl.style.display =\n",
              "          google.colab.kernel.accessAllowed ? 'block' : 'none';\n",
              "\n",
              "        async function convertToInteractive(key) {\n",
              "          const element = document.querySelector('#df-c82d1f50-d6f8-4aca-8139-65deec4543a9');\n",
              "          const dataTable =\n",
              "            await google.colab.kernel.invokeFunction('convertToInteractive',\n",
              "                                                     [key], {});\n",
              "          if (!dataTable) return;\n",
              "\n",
              "          const docLinkHtml = 'Like what you see? Visit the ' +\n",
              "            '<a target=\"_blank\" href=https://colab.research.google.com/notebooks/data_table.ipynb>data table notebook</a>'\n",
              "            + ' to learn more about interactive tables.';\n",
              "          element.innerHTML = '';\n",
              "          dataTable['output_type'] = 'display_data';\n",
              "          await google.colab.output.renderOutput(dataTable, element);\n",
              "          const docLink = document.createElement('div');\n",
              "          docLink.innerHTML = docLinkHtml;\n",
              "          element.appendChild(docLink);\n",
              "        }\n",
              "      </script>\n",
              "    </div>\n",
              "  </div>\n",
              "  "
            ]
          },
          "metadata": {},
          "execution_count": 16
        }
      ]
    },
    {
      "cell_type": "code",
      "execution_count": 22,
      "metadata": {
        "colab": {
          "base_uri": "https://localhost:8080/"
        },
        "id": "Mnh62SBLs0PL",
        "outputId": "3916892d-3232-4f70-b2b9-5bb2a63372fe"
      },
      "outputs": [
        {
          "output_type": "execute_result",
          "data": {
            "text/plain": [
              "array(['tested_positive', 'tested_positive', 'tested_negative',\n",
              "       'tested_negative', 'tested_negative', 'tested_positive',\n",
              "       'tested_positive', 'tested_negative', 'tested_negative',\n",
              "       'tested_negative'], dtype=object)"
            ]
          },
          "metadata": {},
          "execution_count": 22
        }
      ],
      "source": [
        "clf = clf.fit(train.iloc[:,:len(train.columns)-1], train.iloc[:,8]) #first paramater data, second labels\n",
        "y_pred = clf.predict(test.iloc[:,:len(train.columns)-1]) #doing prediction on unknown test set\n",
        "y_pred"
      ]
    },
    {
      "cell_type": "code",
      "execution_count": 30,
      "metadata": {
        "colab": {
          "base_uri": "https://localhost:8080/"
        },
        "id": "goZCmUIos0PM",
        "outputId": "855bc3ad-5e5f-40f1-de7b-8451564857af"
      },
      "outputs": [
        {
          "output_type": "stream",
          "name": "stdout",
          "text": [
            "\tP. Positive\tP. Negative\n",
            "\n",
            "\n",
            "A. Positive\tTP: 4\tFN: 3\n",
            "\n",
            "\n",
            "A. Negative\tFP: 0\tTN: 3\n"
          ]
        }
      ],
      "source": [
        "from sklearn.metrics import confusion_matrix #let's see how good we did\n",
        "y_true = test.iloc[:,8]\n",
        "tn, fp, fn, tp = confusion_matrix(y_true, y_pred).ravel()\n",
        "print(\"\\tP. Positive\\tP. Negative\\n\\n\\nA. Positive\\tTP: {}\\tFN: {}\\n\\n\\nA. Negative\\tFP: {}\\tTN: {}\".format(tp, fn, fp, tn))"
      ]
    },
    {
      "cell_type": "code",
      "source": [
        "print(\"It predicted {0:.1%} correctly!\".format((tn + tp)/confusion_matrix(y_true, y_pred).ravel().sum()))"
      ],
      "metadata": {
        "colab": {
          "base_uri": "https://localhost:8080/"
        },
        "id": "eQPOV4C2wePH",
        "outputId": "59e2877d-280d-4e2c-efe0-63199305f3ed"
      },
      "execution_count": 37,
      "outputs": [
        {
          "output_type": "stream",
          "name": "stdout",
          "text": [
            "It predicted 70.0% correctly!\n"
          ]
        }
      ]
    },
    {
      "cell_type": "markdown",
      "source": [
        "# Pretty good result! 70%"
      ],
      "metadata": {
        "id": "dbtCkYYqxA8a"
      }
    },
    {
      "cell_type": "code",
      "execution_count": 31,
      "metadata": {
        "colab": {
          "base_uri": "https://localhost:8080/"
        },
        "id": "7Ek9e8I7s0PN",
        "outputId": "75f9cafc-ab93-4786-8172-de70a8a27db1"
      },
      "outputs": [
        {
          "output_type": "execute_result",
          "data": {
            "text/plain": [
              "array([1.87196993, 0.87196993, 0.42516967, 0.39883603, 0.28922554,\n",
              "       0.17634286])"
            ]
          },
          "metadata": {},
          "execution_count": 31
        }
      ],
      "source": [
        "import numpy as np\n",
        "from sklearn.metrics import roc_curve, auc\n",
        "from scipy import interp\n",
        "\n",
        "y = test.iloc[:,8]\n",
        "scores = clf.predict_proba(test.iloc[:,0:8])\n",
        "scores[:,1]\n",
        "fpr, tpr, thresholds = roc_curve(y, scores[:,1], pos_label='tested_positive')\n",
        "roc_auc = auc(fpr,tpr)\n",
        "\n",
        "fpr\n",
        "\n",
        "tpr\n",
        "\n",
        "thresholds"
      ]
    },
    {
      "cell_type": "code",
      "execution_count": 32,
      "metadata": {
        "colab": {
          "base_uri": "https://localhost:8080/",
          "height": 295
        },
        "id": "Xp53mr0ms0PN",
        "outputId": "53c0c2e7-c731-4182-d4b8-ca884315349d"
      },
      "outputs": [
        {
          "output_type": "display_data",
          "data": {
            "text/plain": [
              "<Figure size 432x288 with 1 Axes>"
            ],
            "image/png": "[encoded data removed]"
          },
          "metadata": {
            "needs_background": "light"
          }
        }
      ],
      "source": [
        "%matplotlib inline\n",
        "import matplotlib.pyplot as plt\n",
        "plt.figure()\n",
        "lw = 2\n",
        "plt.plot(fpr, tpr, color='darkorange',\n",
        "         lw=lw, label='ROC curve (area = %0.2f)' % roc_auc)\n",
        "plt.plot([0, 1], [0, 1], color='navy', lw=lw, linestyle='--')\n",
        "plt.xlim([0.0, 1.0])\n",
        "plt.ylim([0.0, 1.05])\n",
        "plt.xlabel('False Positive Rate')\n",
        "plt.ylabel('True Positive Rate')\n",
        "plt.title('Receiver operating characteristic example')\n",
        "plt.legend(loc=\"lower right\")\n",
        "plt.show()"
      ]
    },
    {
      "cell_type": "markdown",
      "source": [
        "# 3. Please use the data shown for questions below. (25pts)![image.png](data:image/png;base64,iVBORw0KGgoAAAANSUhEUgAAAfUAAADpCAYAAAA9K65FAAAgAElEQVR4Xux9B3xVVfL/l05ICBAgEAi9QyihI70jvQgJHV3dVVR0rftfd3XdXV1/rmXXVdfuYldARLHRREBpSpEqvbdACJBCIIT/m4uD4/G+9+69793zErj388knyXv3njkz59z5zsyZM6fIRd8F7/Ik4EnAk4AnAU8CngQKvQSKeKBe6MfQY8CTgCcBTwKeBDwJGBLwQN2bCJ4EPAl4EvAk4EngCpGAB+pXyEB6bHgS8CTgScCTgCcBD9S9OeBJwJOAJwFPAp4ErhAJeKB+hQykx4YnAU8CngQ8CXgS8EDdmwOeBDwJeBLwJOBJ4AqRgAfqV8hAemx4EvAk4EnAk4AnAQ/UvTngScCTgCcBTwKeBK4QCXigfoUMpMeGJwFPAp4EPAl4EvBA3ZsDngQ8CXgS8CTgSeAKkYBtUN+5cyfS09ORn59/hYigYLNRt25dVK5cuWB30uudJwFPAp4EPAkUCAnYBvXZs2dj8+bNyMvLKxAMXOmdGDp0KJKTk690Nj3+NEqAj3soUqSIRqqhkSqMfQ6NY+9pTwIAzXu776ltUP/hhx9w+PBhz1PXNOOaN2+OxMRETdQ8Mle6BBgcVZA0UxxOFEq45SfPm6K/ixYtapDwQD7ckv65vYIw7u5xV7halvPc6py3DeqFSyRebz0JeBKQEvB3KKNdb0CXVK0eIllQ+69LTh6dK1MCZvM/2Fy3Bernz5/HokWLsH//fs9T1zSHunXrhsaNG2ui5pG50iWgKokLFy4U6KU0M6UmP2MFF0zR2RlXasuqMWGnXe9eTwJ2JUBzsUSJEsZjVue6LVDPyMjAzTffbDRepUoVu/2zdf/evXtx9OhR1K9fH3FxcbaeDcfNtMxAV7169RAdHR2OJm238d1332HKlCmYMGECSpcubft57wFPAmYSkIB17Ngx0E+pUqX8CitS4VgVvLOzs3HgwAHQ7+LFixvAS/ohKioq7ANtNdQZbsJmBku4afhrz+NZl6St0Tl37hxOnz5t5FRJ/R/MgLUF6gSy06ZNw4033oguXbpY65nDuz777DOsXLkSY8aMQbNmzRy24vyxZ555xjBeRo4cierVqztvKIQnH3nkEcTHx2P8+PGoWLFiCC15jxZ2CbDCpWhZWloajh8/bnjYZMXT3KAdEiVLlrTEplTeP/74Iw4ePGiatxFJgCFGVJChXJ6NGzcaPJ46dQqHDh3CgAED0LBhQ0t8W7mJvXSdAMdKmmhGUuZMn/MWrMgrHPdEgmc5zjJXIxz82GkjkMFMTvT333+PlJQUVKhQwWg2GKAb9/gavWi1EwzqU6dORffu3a0+5ui+Tz75BCtWrEBqaiooWSyUK//MIfy4/RRKJlZHYnws/PskP1N56qmnDAGOHj06pES1CzmncHjfThw4lokisdVQo3Yi4mNLo7iFxOO//OUvhsIeN26cB+qhTIAr4Fl6Tclyp5ecIjg0N9lbJfaSkpLQoUMHvx63v4Qb2qJ69uzZXxnOfL8ZuKmKJVyePLejghsrM9I/xD+B+ZEjRwwvhkC9d+/elkfYrK/yM6ZtNdSpEg7WfrCOBjMmQm0/EH3apkw/xYoV+wV4hGt82VAzmz/yOyvA5Y8Pu/Kxa8jYbT9QPyXPbFjI9slwnz9/Pvr27YtKlSoFmzqXv7/CQT0P2aczkL7lC7w0fT9qjxmBYT0aw4rPGw5QP5e2BUuX/ID9p3NQskQR5Jw8jtyqrdGla3s0rRqN4kGGyQN1y/P4ir+RXvY9e/bg448/Rm5uLjp16oSyZcsiKysLa9asMQB/yJAhfr1WM9udlKc/UGeFI0HObQ9OGhL0N/FGkYny5csbWe+0lZYieOTB5OTkGGN+7bXXGkovXBfR5RocJB+3eVb7TbSpDwSsui/Kr6AfivgEMy7C2TfViHNb5tJ4JD6IZzKQdV9sRDG/NN+kQXP1gnr2UWz7MQ1FqiQisWp5RBXNxtHt25FeLB7VqsWhaOZxpG2ahb8+ugPNbrkek4cnI97C6FkH9Rwc27ENx/IrolpiAuLKFENO2k7sOH4RpXJ2YMXqYyjbrBO6J1fBmZWv4On30tBw6ESk9G+KipfyH/xeHqhbGKir5BZSRBs2bMDSpUvRoEEDwysn5Ush+HXr1hk/bdu2NcBevfwF4+yAulQ8bomc+0lr5uvXr8fixYsN/igq2LFjR2M57uuvv0b79u2NJQiSxzXXXAOq5RCKdyf5MQOYcHqqwWTHoE7yDhdPwWjy9wRuqkHhdh+kIUf9UIHNat+t3mf2LnB0wmob4biP55lKWwX1efPmoV+/fleZp356Oz599S1sjO+GIQO6on7eakx/czmKN+2Da7s3R9Von8W7fw7uvfNbJExMxYSwg/oZ7PxyOt5ZVxbtBlyLnk2KYO077+DbvDq4pvc1aF69PEqVKH4p3H52Jf5zyzs43WYYUm/ohXplPFAPxwtyNbRBSuDkyZMGqG/atMlInGFQz8zMRK1atYwwdLVq1UxBnTx58nwJJKXipJ0sBCAtWrS4XOhCeudS0cs94rwmaZYpbvad+pkabpTe8ZYtW/Dkk08aUQnis3PnznjooYcQGxuLtWvXGoly5MHTsgEtzbVr187gSXpgavvS85T3yfVsuc5KciJ+yYOjvtHf4WpflRn3lQGdFb1Kk0EvWP/9tR+o/0STeKZ7KE9DXX6Qz1K/5HiFIh/iidpmeVOEIpztq+Mr+8q0aS7RPKPvWHY8BsHG3Gz+mPWf+FLbp2cp6kaJnvzOyTEnw5XC7/3797/KQB252DvvKTz12QV0GD4YtXfNwJs7amPwuBHom1QJRuqQq6AOnNu/CP/59yfITBqIwY0OY+67W1C5ZwquG9QK8SJ3KT9tHh65bz5KdB+JCeM7IdHz1K8GPA4LjwxK9KIvWbLEADdSRqQsaMtjr169UKNGDb9e+pkzZ4wsd1IiDOr0m7LJaXcHef6swKTCJhr0OYGbCuoSZFTAYQXGipMVHf9mj1ClSfcvW7YMf//7341wO9ElQ+XBBx801s/JyOD+cchUgmKg9pnvYCBEfWA5cSg6WP+l0RCsfeoHy4f/pvbZgOJwMI2tBBWWcaD2+Tuz9uVzKmjR/zTWRJsAzmzdm2VA/aL7pDz5MwalQKCo9p/aIqOTjAkGdfqMLpYLjTV9prYv21LngRkgq/cTDVrKiYmJ+UX7PAaB2ufvqA2+n34zgHN/5Hfcf+aFDFSiTfdSe8QnGTjUBr3rCxYsuBpBnUZlBz7853NYkZXnU1JFcM2oyRg1oA0S2BN2GdR9HcCuT/6N/y49juyDR1Gs3SCMGz0EHauLrXD5mdg550k8uaQsOqeMxciOCQi2EccLv4cFD6+IRqT3TMqU95fT36wIzUKl/BwpbFIgrCz5XvL6SZlQPQQGDQZipsOfsxJXPUXVC5YCVz1oM8+GP2Ow3u5bPnv++efx0UcfGcDRp08f3HvvvUa+ANNmGnba52cC9Z/vUUPRko6Uj9ofs++syEf2jcFCem1Spmb9ZwBhWk7kwwYTAYscJ2mYhdK+WYSB2uYIBc8vp/NHGoiq7MwMIabDu0jkWJr1NVj7DOay/2wImc0fuo/eS961Ig0Ceo7X1K++8PtPEjyx5P9w50NvY3293+Ff941Hr4blf5at66DuI5X+LZ6+7y+YvjIBkx+/H1OubYpLmxCMaYvMXfPw8ktzkNXoOqQO74n6FS6Vuwx0eaAeTEJX1/eU8U2Z7/RbJvaQwqC6EbSfVa0foSphCR70HCXZkRcvd7NIhc4K198ar6r8rYyIGbDLfpHXRjkC33zzjWGwtG7d2gjB20mgUsGe2jfrq9ln7DXRM5wJHgzM7LRvJiMJIuzlqm1a7b/VMVBBjA1FAhmm5WR8ud9mIEnfqbJkeRMtq2Psz8hS2/cnM+4D/WZQl3ILpX078idQ5+IyUm70N4E6eepXafa7zwue/RSenr4EWyoNw53TUtC3eTxK87YxDaCeufsT/OeZ6Vj0QywGTr0NqQOTkRB1qQPn0n7AJ6+/gYUXWyFlzBB0rVMOwSEd8EDdyutx5d/DCmjXrl147bXX8O233xq1E6iGASsCKsJCa290qp+82FOXACG/Z1Dv0aOH8bH0KtV2zIBLRgcCea1qW2pUwcz44L6zQRFq+2pfVZnIPqhysMunmRz99Z9lowJJIJnZad9M1v7kL/to9Tkn98n+8zibeepOx9yffFRZy//5bys0wy1/Gcrn9/DEiRNX75a2c4cW4pknZuFCjdo4svkAynQcjIkje6BRBZ/FSRJyG9TPHcbi//4bH2ZXRNUTu5FWogX6jBuNPkkVUeT4Jiz48CPM2x6DzmOGo3/bWoi1gui+bnugfuUDthUOWYHQi79161YjK5wO+SEgZoVKnjtVhVO3QgUCdXqWPH9KtGNQVxWb9NT9GQZWeLByjwrsRJvXGRnwrPbBTDFb6QMrVF4z9hehCKV9s35Iz5H+dntLm1n/zcLvVmWm3mdVPirfVrP+rbZv1i+eQ/xu8BwLZng6lYW/8Sb6cjudahyRp351Zr+fT8PqV/+Jlw41wejxA1Fv18t4+vN8dBg1EcM6VEfJ/PM4f2Au/nzfKiSkjsSYQcmoFlUKJYr7siwDjJL1LW3ncfz76Xj61X2oPTAFg5sewpv/+RTZzQdhdO9EHP38Tbz7XUm0G3MdBnX0ATpZGcVKoHSpkihRLDC6e6AezteocLfFyo/CdbQOTsqAwu0yXKkqhWAcU5tUzEUFdQmuDKy8bu+vzUCekVm/AnmtDODBQN2MZiBvK5A8VM+Rcw/UQizhaF+2YQY6HH63M56hyp8Bhvj2l/2uGlThkD+3YWZEhaN9f7KWc4z35ocC6k7kT8/wmrpZlOaqBfW8E+sw67VFuNiqH3p2TUKV81sw85UvkVW/B/q0icfZjDScPLoBX366D+VaNkfzpEaoX8cXuiwfjUDJ55ZB/UI6fvjIF3bPbYTuPXsiOSEPP/r+n5dRHY1q+P6evxIZ1VujbZuGqPxTJnyxslVRq3oVxMUETn/3QD0YLF0936teLIOiXQ9WVVxmoC4VoVVQD/dIEH8cJWCv1Q7IhdIfBjhqgz1Ht2nLaAz9TXStri+Hwqt8lovPyEQ5HXyzvJlnHTT5veHohNUSy+GSNbVD85vyR/jcBR53pnHVFp85f/IQ9p6GsY+vfPQl1DxzdDeOn49BpVJ5OJ5+AhnZ538eixLlUK1mAirFRiFQzSbLoH4+A4f3n0J++YqoFBdzqQRt5jHsOX4O+XmZyD2bg7OCPH1dIrYqEhMqo3yZwFWMPFAP5yt0ZbSlgnsoCtCfpy5BnZKISPmQ96YDZNhYYUVPv9WkQLdHkvglvo13VTkhy03azDPLO5SxtdtPok08855ts/Vtu21auZ9D4BwZkQaFleed3CPnGAOrG4cCBesb8Uy1FsqUubRNywP1YBIL8XvLoB4inUCPe6DuonALedNq+NosnB2MRSugrrahC2hY2RN9uT+e/ne7D0xb0tFBk71HGYUJNobh/J6jIyxvt3mWxqOcvzroSuNYBdNwyjRQW7yF05+xfNV66m4NgAfqbknWa9epBOS6nRMQV+laAXVJUwegqoqe6HP4Xe2LUzkGe87MoAj2TKjfS++RQUZ+JpdZeBzCMQdkv+VSi+6xJnqRMGbYkHE7MdFsfgSTtwfqob5VyvMeqIdZoF5zBU4ChQHUI+mpS9puD54EcEmLQuJUR4C8uXLlyv2qG+H0atWdDrqAXRpRusL+0niUdQHcHmfZfrDIiBZQT09Px+23345BgwahTZs2rvJPpSKpAAXtvaUDLHRf7777rpFhTNWsqlatqpu8Qe/ll19GnTp1jONnvfPUIzIEVzRRK6AuK6vpWFNXla301Pm7cAKZ2QATTVmmVAfQcBRCLfZDJ9JRLXwq3UpFeNyMIpABoWaC65A1y5to+dttEM4XUUY4ODkw0olyxLu6V10LqNPWl3vuucfI1lMrV4VT6NQWHTRB5yfXq1fv8gHx4aYRqD2qO00DTqBKtXkjcdFJVWRU0JnudPykd3kSCKcErIC67kQ5CeqcmawzWY3oy0Q5TtxyG9yILoOb3JtP1QPpEB/y1qm2Pxn3zZo1M0A+nBfRjmSiHCXokdGoM1GO5Mc8F4REOTVioAXUyWq8//77jcIXdCqUm9fGjRtx6NAhtGzZ0nUDwowPOuKRrEY6vYpOh4rERSUCu3TpgpSUFNPQWyT65NG8ciRgBdTZM7RaFCQc0mGvVaWtc01dTWJyG9RVnpkeHcLzySefGAf4kGFPDgYdNUvATlc4+yWLz4S77UDzgteWdW0fZAOKf5sVnwnHPA7WBtHl4jP+9qnTKW1XaZnYYOKz/723pm5fZt4ThUsCVkBd915xubas0mbphhPIzEZMDQeHOyHN3yxhI0Z6bBStpINtyGMfNmwYfvjhBwPIJ06cGHZQV8PvbstZgqscax10mTZHKCIVfpfFZ9R5ocVTpwk2bdo0TJ069RcHQLihysg6XbFihbGeTGcmW73yzx7HLt/E33niAvLOZ+JcqWpoltwMdeJjAhabUdu3Ber5ecjNzsCe9SuxOaeyz7tPQr34n46Iy89G2rZ1WLfnFHKyMpFfrjaatmiKuvHRCLxL3SsTa3XMvfucScAKqLPHpstLZk6YnvQYdffBmVTtPyXX0ylviSKilStXNiKE5KlT+J2WPIcMGWJUACS9eOutt4bVS5cgxzkEOo0ZKTVdoM4866Qn+ZTz2UzWHqgb0srE7mVfYuE3m3CiRGWUQRr27ExD+S7XYeyAjr6T0YzSMJYuW6B+4RyyTx/F8lf/iMe2NcBNN/0WY9pdSq7L2r0A789cgE1nKqBKVJYvT+A0qvr6M6pPR9Qt7xWfsTQY3k2uSCAYqBNR9qBY0etSgOy1ykQ5XaAuk9GYXzf55sjAzp07MXv2bCOfiMLrlJBMa+fLly83QJ2ShgnUV65caYC6NHjCMUFk0phuWTM9ncs8DOqy/no45Gi1DQ6/U86ImbwLJKjnZ6Vh56YfsP24LwnC57GeOV8JTdq3RINq5VCKT1DzIwFnnno6Nn65DIdj6qFFy4aoEpOH3e/9Efctr44xkyZgRJuqQb1j7o4tUP/poQNzH8C9y8phxKhJP4H6aax58SG8vKcO+o+fgEFJUdg782H8c3kcuo+ZhFEdql6qQOfn8orPWH09vPucSCAYqNP3Mhs7ktnvDKo6vEde4yWZ6ihRSzydOnUKb775Jh5++GGjqhslIlP+EnnnBOLR0dHo6StDTWvrBOw33nhj2EE9UuF3Nmp0lonl9yXS4XeSOYf+I5L9bjf8fmbbYny26Dvszo5CbLFT2LZmG6J6TcINQ7ugge8EtUCXM1D/dYtnv3kCk97Jw4BxYzGucy1YzRkNC6jnbcD/7ngWu+sPxpgpg9DMd4b6hd0f4g8PfYfKQ0Zhyug2uHR4pvnlgboTqPKesSqBQKDOnoNMntIF6jIcbZbE5KbXTLJjD4q3WNFnbtMk3frcc8/hn//8p6HkyUOnZc67774bBw4cMMrV0k6gw4cPG558u3btwgrqDKx8oAs1rmu8Wd5ET0cRGLm0wzsduP661XcnHPfJ2u8R29JmF9RP716D3flVUbNaVVSIuoj9M+7E7d/UxfU3jMegFvEBvebwgHomNr3+AJ7Y0RjXjU/BgKZxAeu9y4EKC6if/AqP3TkX6D4C4yd0QQ2yY7K+wb9unIHsHsMw9jc9USdABN4D9XC8Ol4b/iRgBdSl96ZDyUuFS7Tpf97Sxny4DbCkbOUWKx2gnpubi88//xyPPfaYUQ+cPHWuCaLSdyM0Tm0Sz/RDtcg5IuK2rHmpI1K134kuHarC9dd1aguinZOTY0RhClX2+4WsEziwbxf2HjyJ81tn489Lq+KmO6cgtVMtRAWQYDhAPefAArzw+Aycap2C8SO6o0G5QEe4/LIzYQH1g5/iT/cuReywkZiU0h6XVtnX4KUpr+Joi6EY87v+aBTteeo6XySP1s8SsBJ+p7t1KXg5Ngxc9DtStd8ZTN0GNpYxZbgvWbLE2MrbsGFDdO3aFWXLltUmf15uCeU4Xyfvl5rDoEPe3E+mrcNgVWUjt00WkjX1fJzZsxLLvt+LY5nZOJeVi6KHvsZ/NjXEHff9xnVQz8/cg4WvP4+PDjfEoInD0bNJpYBGhCrwsIB6+iI8evsXKN5/OMZNuAaJdHx67gr853cfILP9EKTe4PPUA6wHeJ66ExXhPWNVAsFAndqJVKIc05bhdzc8VDNZMbjpTA6UwCbzBtiDo366DTyRSJTjcWbD5mpKlJPVGnkeSoOmACbK+bZiPPEQ3jraAH2u84W+WyWg7Np/YejLuRhx4zhXQT0/+zDWznsP7y48g5bDUjGoa0PEWU98N+QbFlC/sAnTb30We5sOxejrr0WTsj4lufcjPPDXNag8YDgmjmqNygT0fi4P1K3Ck3efEwkEA3UZCjdTOk5o2nlG3aeuE9SZlttAqnqMqnx0ZN8zTU4QlEfd2hkvp/dGylOXuRs61vJV+RRCT309Xkz9Gw50vw2TxvdAg+gsHJz9F0ycWQYT77jBPVA/l4b1n8/AjCUHUb3bCAzr2RLVYkvYnm9hAXWcxMrn/oQ30pIxbGwq+jYqicOfPoG/flUMnUaNQ0qnGgET9zxQtz1s3gM2JGBlTT0Std+lsqW/VYXrdniWk8aIjq5jSOVyg78tVm7zHcnsdwY4XbXf6TXh5DSZgW7j9Qn5Vs7doMTIQrKmfgALHnkUH2f4tpd1aIzKJXNwcuW7ePaHRrj9j7/DGFfW1E9i+5fv4MknPsKpZn0xqE8b1DQAvTgq1mqMWtXiEGMR3+2A+plDW7HrwDHsWPQynltfBl17DED/zq3QoFZ1lD7wKZ79cC1yYxqgZWIx7F+7Cqfr98HwQX2QVDlwLr4H6iG/N14DASRgBdQLWqKc28BG4uKMaKLFXqvbdDnkziFw3cmBRF/WQdeVR8FeOtGmi/jWJWs23iKZKEdJkZSkV2iy37N3LcYHc9ci/aJvK1eRMqhXtQi2ZVRDzz4d0LpuxYAV3pwlyh3Gyrfex6cbT6FcjeqoHFsKl7bDl0Jii2vQqlEiKljc02YH1I//uAzfb96NA3v3YMfJIqgUXxWJTdqgY0ufIVH+PPas+AyfrjqEzKyzKJnQFB17dkNy7TiUDhB6p157oO5hspsSsBJ+j+Q+dZnEJNeWdSh99hx1ratLT50BVVfoXw2/y8iI27JmI4rkzZERt2myfDl3gn7rXnJgvmXt90KxTz0UheQM1EOh+Mtn7YB6+Kj+siUP1N2SrNcuSSAYqNM9vE+dw6K6FK6krSpct/ugu/gMz0YGGU4OdJtP9S0gb5l+eM+2DvpsuOkOvzNvHAKPxD51erdoC6GkXcAT5UJTnB6oe556aDPIezqYBKyAugQc+luHopc0qY+R2NLGfTBb6wwm11C+Z5DjCEEobdl9lo2KSGSgy77qnGNs3OqmyZ46j7Pc8cCyKIDZ73an1C/v90DdA/XQZpD3dDAJWAF1GX7XqfgY3GSiHIeo3e6HzMYmgDNTuMFk6/R7ueTgtA2nz3GEwiz8npWVBQKZSpUqGcVSwnXJZQc2Gt0eXwnkbMhEKvudozIeqIdrRgVoxwu/axCyRyKiEggG6pEMB8v1TpkRrQNgOYFKZ/Y7T4RIGVFEXyZFqgYUHTazaNEi9O7d2yhXG66L6XBFOV3Z7xyB4bFWExPDxV+gdtTQvzq3tXrqdIIQVTxy81q3bh127NiBjh07IjEx0U1Spm1/8cUXRqixffv2qFChgnb6RJDOUe7evTvGjx9vHMPoXZ4EwikBK6Aeidrv7EnJfeo6vDeWLSt6+p9D0W7TZ3CLVGKiCur0P/WFjn7dvHkzCNQ3bdqE66+/Hq1atQrbNOTIBBkUBOg6PGYJnrLgTtiYstiQrP3Oc14mR2oFdeoAnffr5kWHFqSlpaFOnToRAVWawPQi165dOyJ1gUm2ZNhMmDABEydODGvIy81x89ouPBKwAuq6t7SpwEqKj70ot4GVafOWNvqfkvR0rW+zMcGHqujMfifasvY78U5nfcybNw/bt2/HiRMncObMGfz+979H69atwzbJJaiTnFneYSNg0pAEdbmNz02aZm3TOPOWtoiCOh0yQCBzzTXXBJHBKRzYdAjny1dD1SrlEBX46PBftUWe8nfffYeRI0eiadOmuuWN559/3niZhw0bhmrVqmmnTwQff/xxVK9e3fDUK1asGJE+eESvXAlYAXVWNgyouoC1IKypS17d5puBhvnWZUjI2c1LHmxM0BGv7733HiZPnoxdu3Zh5syZYQd1nl+8pU0X36q8dRpQ0nClfvijrdVTpyMBKSwc+NqI9+6fjZzOw9G/b3NUC3R6i0lDzhPlfCffnDqC/bsP4UR2UcQmJPpOiauImFI+i9uGfna+pp6P04e2YfeBNJzOZYKlUKlWfV8/4hBtw7jxtrTZGLCr6FYO1RLL5F3R//625ARag7YC6gwyOiqryb6agbpqYLg15Axuck3dLVrME/3mdV4COB1haAkulAhHy500nxo1amQcJLN69WrMnTvXOON9/fr1eOedd5CamhpWT13yz+PvtgEl5xFHR3TvU+f5LasHqnwTqFOkpF+/fkaCotWriK/xi1Zvtnf06go8OfglnLvutxiX0hG1tID6OaRtWYalGw/idKbvJbl4Fqcz8lGjQ3d0bt0AlaPcPaXtkhxP4/u3nsZn2y8iulo9VC5Dn5VBzVYd0KKhr/iNjRr0HqhbnZlX9n1yvXX37t1GOJRyLEgR0TtJIFC3bl00btzYOItbKmszyTB40HfkjWVmZqJHjx6/uFV6MvyFv+1dgQwHf0DMPElFJj8zU0v+lL0Z/WDtS2bVe1nh0j3+vKhQ2lfHROVV8uNPPoH6b9a+KjtJ8+TJk3SqdB8AACAASURBVFiwYAFmzJhhHENK0dGhQ4caID9r1izDO6e/3377bdx4442/AvVwyd8fqIerfZaBOs/MvOVwj6+Z/KXBLN9JvrfAgnru8HHod01VFDl9CvlRvkprdRJRuWwpFA/iNjvz1LOwfd47+OxARbTr1hMtK6djybP/xMycdhg7ZRR61C8f8Ax3+TI499QP4tM//QHL44ZhxITr0CbeOeB4oO5cdlfSk/zyHz58GJ999pmhYKm05OnTp41lGfKuYmJiMGLECAPczRT+qVOnQM/Tud10seLYu3ev4ZV169bt8tYtVmgEaFz7XXqtrAQ5ZCrvNzMG5Geq8uK2pBLldjkjWkYJAt0vlb+kydvSpLFDnzEd+py9Y+4H0aa+kscs+ZTAwLzI9ukzrgzmr31VBnw/j7OsruaPX3/9l23xOPvrD/d748aNePDBB43lTuKXjMM//elPxrLjnDlzLs8xMgBvvfVWJCUlGXMlWPssu0Dy4e9oDrO3zJ/JeRYOfmV/ZMVAMmQo0mU2XurYcD/U/rDHbfV+vo/ex9KlSxvyZH6pLeor5ZSRsdW/f/+C5Kk/jh+qNUObjr5T0orm+MLimciJb4uevVqjcZUYF8rEXkBuznkU8dUPLlG8mBFuz/nmCVz/zgX0GZeK8Z0Dn+EeHlDfiRl3PY4f6wzB8ImDkVTeObx4oO5cdlfak/TCr1q1Cl9//bWxI4M8dgqJ3nzzzcjJyTHO4W7evDl69er1K1CnZwnQt23bBgqzsjKmzykBqkaNGgaoS+VP95BiIYXHHitngsv7WLlRW3S/VMRmSt/f/aTIGLy5fVL03A/ug932GawZpFXQZQCRoE73EG36jnhiJSv5pn4QCPF3avv8nNo+05GgQn9zW9QuJW/Rc5QgaLV9CSoMXix/tf9EQ9KkefTAAw9gz549Rj8SEhIwbdo0I+xLWe8072hvOhmOlCQXHx9vPM9jQv3l/jO/nOwnafMcMbufwI0PNuE5Eq72qR2iyfKUsiZa2dnZBn88B6mfVvvPOQCyfZZ/IH75fqJNRjX9z2PC8qGdBwsXLsSAAQMKEqj/BQvRCMPvvg2j2lRG9vr/4R/P7kSDib/DuH5JqPJzpPBXOtiZp642k4+0zx/CtAXlfaekjcOotgkBDYnwgPo6vDzlv9ie0ALtBySjekw5VKleA9UqlUXpYOEJpfseqF9p0OycH1IQFHafP3++AZyUNUtAnZycbCgD8sQpz6VFixa/IsJeAHtX8vfatWsNpcY5MtKLpIb4WTWBSb3PKmdmz/lri/hixai2L5cCmB9prMi/rdBUPWIJutxWONv3138GXAIbBkgn/bciHx7fffv24ZVXXjGiQES/a9euuOuuu1CzZk3T08MCydYsEhPsM2pPGgnB2ud+m/EYSK5qxIbbMVvXlpEeK/03i6jINnj+cqSH+WVw5zksx7yAht9fQO7I32J86jWoRWvLF/bg/Wm/x4oGN+CG8QPRvLL/Ne5wgHp+5k7MfuwfWBrfHxPHDEGbqhZPc/F11Xn4fQtm/HE61uXFoEqzRMTk5SDzfAU0a98F7ZISERvAkFEVlwfqVqHiyr+PXnrymgmEV65caXhLpADIY6erZcuWxrp4VJR58ooMl0oQDLSmTu3Ko1dVYHdD6rJvpPjYe1GVohu0uU32ljn8LkHdLbrS0JKHfLhFT/JK9A4dOmTkV5C8KbzOdUgkSEowDWe/eJypTd3FZ4i2rHcfTr6CtUVyV499ZdCnZwtg9rtZotwFLH9iJF7LG4HfjEtBx5r+s+dCBvX8TOz68r94fvY5tJgwFkO71kV5G+nvzkH9JHat3IQTJRNQq5Hv6NXjq/HGv17Ej1WHYvL44Whb3Tqqe6Ae7LW4ur8nhZSRkWEoYiqQZDdjmoDEH6izAmdAk0aBDqmr3rfaHx190EmDvTqdNFVaalRGV5/kWOswoCTfung0G1dJ26wfhQTUs7D476n4oPR43DB2lA/g/B9uHhqo+7LgN3yC116bh6IdJmHMQF+kINYGovtGwDmoq8N3Advfvwt/31ADw667HiNbWd9v7oF6JFVcwacdqjIMBuokAQ4TsrKVnoSbEpJLBmys6DIsmLYEGJ1887q7m/I1a1tWV4uErHXPMTYUIyVvGYkyk3cBBfUXkTuKwu+djC1t+WfW4MVpj+Nw91swaVR31C/rf9o6B3UfoG9e4NuK8Tm2lu2BiSP7oXXNsrb2qFOvnIL6ucxTyClS0giDljTOSz+LTW/chye318PwMZMwtLn1krMeqOtWa4WHXqiAzgotmKfO69qcJKcb3IhP3bXfWdkSrzr258tZpy536JyRajhYx1izAUUyZ3m7TVe+O/Q3J8XplDUbzDL8zomY3I8CCuqP4ofafTHi+iHoWPUcdn39Dt6aVwbdb03Fte1qIlA1c2egfg4ZO7/Buy+9gdXRXTFx9LVoW+MSoBcrUdqXXVkcxSw67M5APR/HNyzA19tzULZWElrUjEXe0dWY9fqHONF4BFJGDkCzitb3ynugrvs1K1z01HVyu8owkKfObUei9rukTX9H4jx1uaVNR0iYeZbem93xDGX2MrhJkPG3Rz8UOmbPEs8sbx1FYNS8jUitqRPfvJ1O7soowKC+CR88+BqWpZdBnQ7tfElxudi+ZgtKtR6BAV2SUC0mMLo6A/V0bP3kf3hxYRYadOqA1vUr/pTtXsxXWa4OqseXQxmLFd2cgfoFpG+djzkLfVuHytZE01oVkHdwHdakJ6B93164plElWE/V845eDbfyuNLaC3U90Aqo09YuUri0j1eHkpcKl6vlyYI6OgCWlC1vaWOQ0QGwDKwkb97epWvOEm3imUCGtnfx3HKbb/bUOUJB28500OQEQKJL2+nCeZys1TEj2rTzhLYKqgmJ1EYB9NRP4/DeTJQqWxzZGcdxIrMo4nxbu6pUiP4pLB2YdWegfhpHdh3EsfQsXNpdy1dJlE+s7dtWFusyqF+idyE3C+lHD+DoyRwUi63q2/dZCbGli8OIxtu4PE/dhrC8W21LINiaOgOsLgUvGZC02ZiIxDqvjox/4ptlzCCni64qczUE7DbAMu8cftfNt7qVzvZLFMIDcstmIVlTD4Fb36POQD00mvJpZ556+OhTSx6oh1eeXmu/lEAwUKe7WfGwstWh5KWi5zV12XO3+0A0pbJ3m57kLdDefLfnLyfKybPF3eadjRgec87dcJtXbp+jIzrC/ipPcmmLvyvgW9pCGxYP1D1QD20GeU8Hk0AwUJehcDOlE6z9UL9XAU63p67ba2Rgi0RkhA04tS5AqGNo5XkJ7DplbhYNstLfcN0jDUezpbQCGH4PjXUP1D1QD20GeU8Hk4AVUOfELcpA17GmzsAmowTsRekEdbMKZ8HkGcr3rNSlvN32ks08R5kJroM+A7rO7HeeY5ycFunsd84jUIFdC6hTnejbbrvNOMWH6k+7eX311VdYt24dBg0adLm6kZv01LanT59urHNR3d2qVavqJH2Z1nPPPWeUahw7dqx3nnpERuDKJmoF1LkmNSkeXaDOSpdoUx91hoPZmCDapPR1J8pxJriOhDF1dlOiHP3IqoRuA7tMlKP+kLx10JSJcirPut56Miao3DMdzhSxRDk6ovHOO+80CtBXr17dVd6p/CXVtqazfekkKt0XHXJAQm/QoIHBbyQuOs+YDuhISUlB+fIhnAwTic57NAu8BKyAutynrhvUWeHzOmskPHVduQQyFMwem055szHDB7AwsLoNsGZ03aYpkxJ5fkdiTZ1L1LIBF5F96lSS8v7770dcXJxxLJ+bF50oRaDerFkzWyfUhKtPVF+bXio6hjBSoL5s2TL07t3bAPVy5cqFizWvHU8ChgSCgTrdw94yF4DRpXCJtlkiEX3udh/kvmmuZuc2TR6PSO1TJ/rksdJ401GgOuTMPMvExKut9jvJnLaL8lKANOS0hN+PHj1qHMk3derUy6c6uaUfvTV1b03drbnltXtJAlZAnWWly0tW6RHdSGxpU+eI26AuvUddgKryyOCqu4qempDptqzVORYpecttfPw+etnvptr5HE7t24Ifdh73WZ65yMori1o+b79BYhyirBdzc1wm9hddys/AzpWrsBfV0ahpI1QvZ7HyzU+NeFvaPPh1UwJWQJ0TxnRmJUsPjvoYqdrvzLNZZrJb4yKXHNyi4a9dmaSnC+gkoOvM+ldD8HYPQwrH2Kj71FVjxvPUf5Jyfvo6zHprDpYfKYYavpKsJ/YfRnaDAZg4vDtaVo+2XAAm9H3qeb7qcnPx3AMPY0nlybj3rpvQr2G0rbnggbotcXk325RAMFBnz429ZZ1rvJK27trvMhys22uVOQy6PFaeNpHap070ddYFkIBOf1/V2e9Owu/nMvZi0/ofkXbedx50Vi5KVmuCVk1qo3KMrxxgACXkNPx++psncMtbuegzdjxSutYG1r2Iqc8eQ5fxqUjt1QAxFhVfqKCel74BH/pq0H/w8Xs40eFu/L9bPFC3KHrvNk0SsALqkaj9zp669GR0AhwreuqHrjV19lgjsYWQpxutp6tb2tyWu8x+JwNKh8csIy/yZDpNr91lMoWw9ruv71n7sHj2LCxaewTFqlZEUV+52HOJ3TFmWDc0q1Y2oNfsFNTTlz2Bu945a4D6qC51UGzrG7j78T1IGjcGKX0bw2oOeUignpeOjR++iFdXR6HUiY9xtPZQjE31QF33S+PRCywBK6DOtd+pFrkOhcs9ZmDlYig6w/9c+523tOmizTwzsOqOjHDtd9piRZcO+gzqsta+24aEzDInQ4bq3TPPOnUG136nuvO8pa3AJ8qlf/s0Hnj9IJoPuwEpvZugYslTOHg4FzG+7VmxMb6MPxc8daSvx1v/mYVNRSqhRacWiN76Gb480wIjrxuM7g3Lw+qqtnNQ94XdN87BK6+tROlOI1H7wHP4MrMNhqV4oK7zhfFoBZeAFVBnr1nnFiemKdeXWenRd24rfaYrablNUxozOteW5SyJxJq6jMro3j7Ic4r41mmwsszNKiYW8ES5LCx9bBLeKDIKN44biQ417JxP5rz2e37mPiz96B18uGQPisaVwL7vdqLG0Ntx84R+aBxnPVPOKajnpW/EnFfexJqYDhg+vD+KfDIVrx9L9kA9OMZ4d2iWgBVQVxO3dIMbr+frBnVZ4UznsEQ6UY68R50Fd/wZcG7KXIbfOToSqX3qLO+IFZ+xt6a+D7NuvwUrG03D5NT+aFbJ3jA5C79nYfcXr+LVr/KQdO1AtK98EF/7wv/fpTfDwAmj0KNlVURbxHVnoH4KW2c8gUdmHEdi1z7o3ToB+z/+Oz4+Xh/dht2E1G71UaV8lOVkPS9Rzt6c8e62JwEroK62qBPUWeHr3tLGdHVEBaSHzrLVmW0vx5cTBGWxHx3jzfkE/FtH2F/KXec4q/Jm2mZjXgCz30/giwem4JMKU/Cb8UPROqGELY3jDNS34Z2bH8X2FqkYM64/mpT3Bfiz1+KFW59D2jXjkJraCw0sFodzBuqHsfyNt7Box3mUSaiK8qWLYM/iV7D4ZCLaXHsTbhzWDg2rlbO8BOCBuq0p491sUwLBQJ2a43OuWdHrUPIyJEt95Ox3Vvpu9yES2e8S2GR0wuaQhnR7pLLfWd40rjpOaZMAKsvyhiQ8Bw8Hk3cBBHVg58w78NCCyhh24w0Y3KYaoi7m4nRGDor6EjGiSvsSbwIIwjGo3/I3fF97BCZcPxit4kviYtY6vHLP49ibNAUTxvZDkzhr0ncG6r9ue82Lk/GqF363JnTvLq0SCAbqkU7cMquupsOL5fKdBDK6KulJQ4ZDsjo9VqLPFeW4wpnbxhPzTGNKCWuc/e42XWkckqyJb66ip/MFJNq5ubmXa+2zMcd9KJCgfuHwUrz41FwcrFQHzZMboEJuBjLOx6Fpp2Q0TCiPUmEH9Vxsn/sU3lx1HnH1W6F5jWicO7oOC5adRfLw0RjYrSHiSlobNg/UrcnJu6vwSsAKqEdiW5k/r1Wnp04Klz1HHeFZyTNnZ+sGdd6+qNOQIdmyt6yLLstaGlLemrrlMrEXkLlnKWZ/+A325UehWM55lG3YAb16t0ODStEBw9DOPHUyN9OwZdEX+HLDMRQtUQQ550qhVpse6NW+IeJ9e+OtXuEC9T1fvYQlZ2qjdfvuSKoayIz5dc+88LvV0fLucyIBK6Cue586e+IcJaDfqsJ125OLVO13CXDyZDonY+vkGfKWpdfqtpwZVOk3zTO6IlH7PZKeOm2noyhBIUmUczKtfn7GMaiHRvby0+EC9VC644F6KNLzng0mgWCgLp/XEfZW6fH/MoFMh9ccCb51y9dsblAfuB9mIBNsPjn9XnrOV+r4+pM382sWhSqQ4Xeng0zPeaDuHegSyvzxng0uASugLhW9ToXLdDlRTnp1bnuQTFvy6zZNHi1OGovUvmkufKNzqUMdW12yZroFYZ+6B+rB9VXId3ieesgi9Boo4BIIBuoMMJzAo6uymlS2DOo6t3sx39SPSNR+Z5DRCW7EKwE6heCpeqAuA47BTOYwuM23XOLhZZ5ILHeo56mr0RrPUw+zAvVAPcwCvcqbi1RoM5DYA4G6VLZcqlVX4pakLdfU3Vb2LKtIrKkzz5E8T12t/a5rvKW8dSSsSa+YgZUNGZ1qSq39HhFQP3HiBG6//XYkJyejSZMmrvK/Zs0a/Pjjj+jcuTNq1qzpKi2zxj/99FPj444dO6JixYra6RPBGTNmoFOnThg3bhxiY2Mj0gePqDUJsKLIzs425u3hw4eNBJg6deoYP4cOHTKyfKtXr/6LMqdOgEquQTp5XoY76T07c+YMevTo8QtGmYbc5qQjJCx5I9okM9pixZdTfq2N4qW7eJsT0dLttbK3rHuLFcmdkrZI5lSLXAKMWzLnsWZvWR1rO2Nm9V45v3isz549i5gYq0d9WaUU/D4yorKyslC2bNnLOkHKmjz1efPmoV+/fqhUyXr1tiI+Ji8GJ3/pjoyMDNx2221GiMZtoCOleOzYMdSqVQvlfbXidV/btm0zFAoZFJEo9k/8btiwARMmTMD48eONF827Cq4E+OjITZs2GS8ivSv0asXHx6NPnz7Ys2eP0flrr73W+JwuO+Fs9TVV//fXlr/Xm5U2g3r37t0vZ+BKKcu+cp/9tcnJVf7uk9/zPfRbNVKksqe/ZUES2R8zGZgZPP7aV2eT7B89wzJiRWu1/ypPTCeQfOTygko3GE9W2jcbEzUBkXn256GHa3zN5GNlnoVT/iwzyXM421fbMpO/pG025uREuw7qVCaWQH3MmDHo0KGDfQ17PhMnTpxF0diyKFumVMAtbQsWLAApnKFDh6Jx48b2aYX4xMsvv2wouUGDBiEhISHE1pw9/vTTT6N27doGsLttRDnrofeUVA709/z585GTk4P+/fsjLS0Nc+fOBXkC5HmRgUigLjOLrXhBEuTIWCADgtrbunWrERWoXLmyET2j3+olAUF6X6xYv//+e8NbIFA3u3ifutVKX2bKzM4skfLganbqNicbfogd0pfvZWVLv82iE6HwaAYc6hiFkrgVrP1AhpmVY0hDad/fYLC86XvVoLACjnYG2cyQkfXuA8nHCh078iG+5Ylxqi7QBurTpk3DVMv71BUxnPgeM2fsQVz3TmjXpBoCVWx1nv1+FqePZ+CM7+z2PCZfvAwqxJVDTFRJy3XXQ1tTz0de9mmkn8rEuSJRKFfeR7t08YCn0plNGG9Lm5XXKPL3SKW8evVqI8LSrFkzJCUlGR47GahLly5Fz549jaiL6vEE44CVXmZmJlasWGEADS3HzJo1Czt27DDAvG/fvujVq5dpVEtVmtJIIFCnJYNu3boZ3QgEWNIosKJsrdyj0pSKzZ/naMdb98eTv75xxMXfGDnhicfXiifIxhaBmxt8Buo/gwyvaweLhJjJ1ql8+DnV8LQDkvI9CtQPnmN8aI/V58Jxn1m/pJcux1xL+N3egS4mqmrfLNxxx1o0vmUcUvo1RaCKrY5BPXsTPn1/DTJKx6JyQjkYeZwlK6Ju4zpIiIuB1fIzzkE9Dyd3rsJ3m44iu3hpX8GdDGRH1UaLNs1Rr4p1+tRtD9SDwV3B+F4qv9OnT2PhwoUGUBLQUvh9165dmDlzphF1oSiXVPJWOSAFRKH9RYsWoUGDBoaxsH//fowePRpbtmwxviOjoV27dr9qkvpH99OSFq2bymvv3r2GgUCeugR7VticlUzKSHo5BDrsZTAQqp/xM3yf2j4DF90nFSzdR99xQRJWhGTMsALk+/lZCYJMJ1h/JE32jrl9WmKktrld2b4EXikDlV+z9lVZyP6zHLn/xG8o7bMc1Tao/8yv/E5GZQjYuT9m90uDy0r78n4aV8kbfUfylhXl+H76jO7nsZSArLbBkRVuS8qft+pJ2iwfyiOg7Hd/48V0ZPskH/luEE1qg/sq+2/WH5Y/vY+UMyKL79D91D4tP5NDQFE/19bUnYB6fl4WMk6cQtb5oog+vQh//uNmJE11EdT3z8E996xEtRGDMKxvYxir8UVKoExMGZQqWdx9Tz13Lz576kl8nF4XfUf3Q4OM+Xj93QOoM3wCUga2RBWrVoUH6lbxrkDeR2Fx8qwbNmxoJFuRB0+KiRIfVYvfCgOkBKhNWmMjz5yUBr305J0TMG/fvt1IdmvTpo1pcwcOHMDGjRuNUDtf1MapU6eMRD4CdVZ4MuxNCo8ursvtD9BYQfK9XMtbAoLaPgMHAziDKCtGaoPbY4XKv1mhWm1fGh4qqDCYSZAgZUv94T7Sb+ZJerSyLe6rWftEg9tioFLvZ0OC6dC8kYDgr33qD4eQmY6UHQOO7D/dz+0zb5yYSOBE30mACrV9nlNMS4Ii9ZlqoHPNeb6H+CVZMejKOUWf0f0MgLJ9vl/tP/ElZcFzlpbHKGeJnuPwv932eSug2j7xwsCttk/9oaU6StLjpQ/6jPtPeEsOwoABAwoOqJ87vhXfrtqCk3mlUaZkPrL2LMJLb5zDwL/cgglueeq7PsDtf9uO5uOuQ0rfRihnRWOa3OPYU09fhH/cOQ8l+w7H2LEdUa34bnx4z5PYVudaDJkwCM1sdMjz1B0OXgF4bPHixUZOSL169Yz1b/qbckOGDx/uCNRJAdHL/vnnn+OHH34wlNDu3buNXAtSBDVq1MCIESOMTFqrF7VJ4XcyPtTsdwZv6b3p2uLEtKV3Z3fJwqoMzO5j0Kbv2PtW1ztDad8fTck3GzjhphOoPRprNkiYX7f5ZqNM0nWbJkdjeJzpt46tdKrsSd5sBMiIDd9X8Pap5x3Dytf/i/+tyUe7kSPQtUYWvnv/eTw9szRSn7wbU9wC9XUvYcIrJ9Cpby8MbF0dUWXKoVy5aJQuXtTWmrZjUM/ciPeeeAdbYpPRf2Q/JJfdhumPvY8zzQfjulE9UMdGErsH6jpVWnhppaenY86cOfjqq68Ma7x9+/a+o39TL29ps6u4GODIq9i3b58R0qdQPwE6hfUpJG9322MwUCeJkNLhUKHVZLlQJMkKl2mbKVy7srPbHwY3eo6Vvds0pRHF3rYOmlI2kTyljSMvkaj9TnNcbpu0O1+c3k88y9rvvIxRYEE9b+8M3H3vctQbPwljfWHnyr7DVbBnBm6/cx2aTh3v3pr62pcx+YXtqJGUjG4NyyPn1ElcrNIMrVo2Ro3ypQIe9yoHxzGo4wKOLPkPHntvG4pWSULz0nuw9HgtXJsyAkPaVkNpGzPAA3Ubwipgt1Kom7x1Wlvn9ViqueA0/M6gLj0oXntlj9KuCKyAOrfJtHQBDdOTYX1dfZByZf7d5lt6j07H0+74q/ebzbFQ27TyvCpvt2XNBpTsmw6aZp66mqsi+1HgPPUTXzyAiZ9Xxk3Xp2Joq6qXwFRHotzBFXj7i+0oUScJ7eqUxu5Fr+KtpVHoOmUKhnethwqBDnEXUncK6vlZB7Fy/jwsXrMHWb4kuaN79uFsnT4YO/E69GxaBVEW6VNXPFC3ohIK5j1LliwBrYlRVjl50F988YWxTklbJJ2AsRmghQpyVkBdKnqdio/p0uhy2D9Ufq3OFJVnGT2w2obT+3TxaNY/DkfrLo0rDTgJck5laOU5NQSvo7CSGahTP2QCqLynwIH6wY9+j9tWNsRvJ4xB/2YVLyWo6QB1VXK56/Di757B0WvGI3VcbzS0WDjIKainf/ciHn8vHY0HjMbInrWRv2cJ3nhxFo741tTHjuqH5vEWD3T3QN3Ku1lg7+FEJQ7fUmiTXuBIlKP0J6RgoM5KnoFVJ6gTTZmwx7R1ACzzLQFGF+8yaU/35JbJWkxbB9+655kEdPqbM+N1y5toc6If54wUaE/9zLL/w+/eK4Ghk1IwrJ1vbdsXfcfemZjmC783cW1Lmy/x4LzvXF5fxmQxX6YxkUTej3jr9r9jRwtf9vnY/mhisTidU1Df/ObNeHZfMwwZNQUDGvvK//m6sHPm7/HY5loYPGIyhjWvYHnueJ66ZVF5NzqQgBVQl8CqO1FOApwOcGERsqKn/9mDc5s+e6uRSkxkI4oTt+h/HV4zR0U4U12HxywNQ6IbqTV1GmvOjC8ciXJHF+ORh2fjQhtfgtiwzqhTOhN7FryAPz51HD3/dLM72e8XjmPz0vU4USbBty+9HuKj8nDihw/w9DNbUGvUBFx3bQvEW9xS5hTUD857FI99loUm/cZiTM+GiDl/GItffBxz89ti9JjR6F7HYqjA89QdwJT3iB0JWAF1ijDw9icdClcCKyfpUTKgDoBh2qRseSufTtpsTPD2KN1GFPFMIMNlsXXQZ1AnukSP5W1nHtu9VyakkaxpO10kynDTe0VbTGlLG4O6fMcKXPgdyMLW2f/CzA2lEJ/UAvViz2H3irmYu7wchv/xtxjRuV7A7WaOis+c24vF02djfW4sqvuygQ1QX78YG8u0xaD+PdEqMcb92VpK+AAAIABJREFUferpG/Hhu/OxD5VQr2ktxObtx+qvjyK+Sx/075mEKqWMhQhLl+epWxKTd5NDCVgBdXWN122PVYI6K3zOute13izX83Vu7SLe5bq2LllLY4Z3OrCn7nBq2XpMXe5wm285j5i2ToNVypvX1HnsC3T43ej4hTM4svl7rNi0F6dL1ELLNvE4u/c8KjaojRrVyuHns5d+PQccgbpBMxNH927FxrXbcTCrBKo2ao6WzWqjckwpy4BOzTj11I0u5Kbj0JYNWLt1H7JK10DjVs3RMLECon3b6uxcHqjbkZZ3r10JWAF1WbRFt6L3p3B5/dGt/kiQ0eGtynGLJMiQ58jb6dySrdkcZSOKfuveNqmua0ujUgKsG7kcvHWS8m4KxZq6XQWj3u8Y1EMl/NPzoYB6mLrgZb+HS5BeO6YSsALqrNx1eclSqaqdpgMuaG8+HV9LYVrum9uenY7p4wZo2O03gysvdejqE88t/h0JQ8ofr24akJKmGf0CGH63O6V+eb8H6t6WttBmkPd0MAkEA3V6nrwJXoPUua7NHqsMT1KpXapz37VrV0RFRRlbBel3uPvFtIl/Xdu7WKnLRDndxkokst+ll87ydptvCaA8v3lbGfWBDEeaZ1Q0qkKFCmjSpIlRFTLcRk4weXugHkyD2fze89RtCsy7vdBJIBio0/cyJKvTg5K0OXmKQP2zzz5DlSpVjMQmOhK5S5cul2uGh2sAZEU5echIuNr31w4bE1xnXae8qU+RrCjHdd11VZTjKA/Jmuu802cE5HQS4uzZs415Rv1p3rw5Bg4cGHbjUVaUI9q8/MDzQwuoU/jrlltuwbhx435VGSvcE54K2dNLTLWyI3WeOvE0ePDgiJ6nTqFGkrd3nnq4Z5jXnhVQj8S2Mg7Dqnu2SR+89NJLxvGyTZs2NcrlDhkyBK1bt758glw4RpUNCvIYdXrqrNg5MqIb1NmA46QxXfTZiCJ6utbUeZ7wWHM9iSNHjuC1114zTkAkIF++fDnWrl1rlHwOdylZtfa7GgnQAup08MOtt95qnBJVq1atcLw/ftugc6Lp9Ck6k5osJt3XypUrDcuJlIfdmtrh6itVJevTx1eNbuzYiPUhXLx47RQ8CVgBdRkidFvJy3V7UnjkNRF98sqJ9nfffYdVq1YZJ9NRWPT99983tmDde++9YRUuK1t5Mp3bIWFmgIGVcwbCyliQxthTp1Aze7Ju0+cxl6esuS1rBk/6TTyfOXPGdz5IOaPO/549e/Dvf//bOL2wZs2aoDMcaD488cQTRgg+nBfxTGc50BbCiCXK0ZnM999/v2Gx0DnRbl50YEVaWppxUEVcXKCT193pBZ2qRRYr0ed9m+5Q8t8qGRZ08lZKSkpE9lHq5tejp1cCwUCdPUczheNGT3l9lZTdtm3bQPOfLjpOtkWLFgao07nx1157raFo33vvPUMp33fffW50x2gz3Ouo/jqqi04gQbH8I5Uox33TAerEK3nCdD4DRaBJz5OxSMcZz5gxwyhIM2rUKOMkRJqPdIqhG7kbbDxJg5bloMVTd3KeutO3zUuU8xLlnM4d7zlrErAK6hJwdCjcgwcP4l//+hf++9//Golw1113Hf785z+DPqdlOTr/nbxoCpW2atXKSJwLZ78kuOkCGqbDtN2OipjNEA6DU5TADGSszSp7dzEdaUCFcyzNekM06aAlwphp06YZ0Z5mzZrh6aefNtbPaU191qxZRpSU5hglytEZDuqatz1Of323XF4yM+o8UDdk5tujvmMfjqRnIvfyW3IWGWnZiK3XEk3qJaCcxdLrzhPlzuGob2/+zuO5yC9ZBiWNremlEJdYC9Xiy6NMcetTwdunbl1W3p32JRAM1BlgWOGE21Pxp3C//fZbA8TpN0XLaAnsoYceMpQrraufPHnSCIsmJyejb9++Rtg0nEDAypb6p2tNnWUhs7HDyZOV2aFmY+ugL/MnWN5u0yWaBNak45955hkjEkufUe7Ss88+a4A85WsQqFarVs0Iw7tRhMjbp25lVuIoNi5cgQ2703z17OjKR8b2Bfhs9Xl0/s0f8bvh7ZBo8Txz56B+DPP/dhfe3xOLhKTWqFWW+hGN2m06o3XTmogLVHFH4dEDdUuD7t3kUAKBQF1d6yRwddt7ZJrr1q3D3/72N8yfP99Y6qPwO70LHTp0MJQrl4+lw3HC7T0ZWsMX2pfne9NnOoCGaUfqPHWug87r+W6PtzRkWN6csOZwSlt6jOYMhdxffPFF/OMf/0DZsmWNugd33XUX7rjjjsvr23Lc3VgeUWu/qzQKqKfuS3Y5vgMbtxzB2bxzyDofjRpNm6BetfIoHaS4WljC79n78Mkz/4cvi16D8anD0KGmhjKxOIC5DzyI7+KHYNj4EUiuZGmemd7kgbpz2XlPBpeAFVCXyVNuK3mODFDi0ty5cw1QJ4VL2e0TJ040vHZZDIQ5DDfg8jYnrkWuA9SJBvHPwBrupKxgs4Fok4dKP1SLXEZngj0byvc85mSo0d9kqIV7PM36R/XeKaudgJ12FpExQflilIAplwTcHHvimZYBSN401woFqOef3oEFs2Zi4cYslCtfDCf2H8XFFkMxcVQ3tEiIvnTGup8rdFD3eemrX8CD/0tD8ojxGNWjPmJthL6de+rb8f4dz2Ff04EYOr4fGlk/v+VXkvBAPRR14T0bTAJWwu8MNjpC70yLflNWMIXYCeRI6XKyqg6Fz0DDCl0HTR4ruZ6vky7Rl6F/twwmszlJPBNtnmNu8y2jUJT8TT80xygDXhqNbhux6pbNQgDqeTg8/594eHYeuqROxNBOtVHsx1cw7dGdaH/9ZKT0agwfzrsH6vkn8NXj9+OjYj19W8JGomNiVDAd94vvnYP6Grw46Wl8X6YFul/XAdUu5qJIXG00blgLVcr6rFAbvfBA3YawvFttSyAYqLOi17WmznT4N29zkuvabit8NixkzXsdNHnwGFh1hKHVCcNRAvKW2aCxPalsPsAAy8aMjn3qbEDw/ObjZtVxdnvcC2FFuSOYe+9d+KrGaExOHYgW8b7F5AvrfYD3JNJ634RxY7qibgAvNmRPPX0x/nH3xyjZNwWpozqguo21bBps56C+E1/+603M25KF2IaVUfzkIRw4HYP2Q8ZhUOemiC9jfdZ7oG5dVt6d9iVgBdSlB+m2olfDngywUrm6rWiZpk5PVY4cy0AHn+qMiZRBoSvcbSZnGRlR57fbYyCjE2Zr9gVwTX0NnrvuSexu2RvdezZHVQNUj2PV9NdxtNWtGD+yOxoF2H4eKqjnrPw3fvt6FnqOG4ux3erAnp8eCqhfQG6WL/Pdl3hRsmQJFPOdp77wyXvxXnYPpEyagD71rRcw8EDdPlB5T1iXQDBQZ4VHv3V4UFK5k0KVBUnU76xzaf9ONRzstjEjjRc1JGu/986fkNnYOniWBpTOyIg0nFSepfR0gDqXBOawv6RZAEF9PV5IeQjflm2EJsn1UUlsJUto2Q8dk2qhUgCvNVRQ3/XB7fjzxkYYP2YcBibZL17j3FP/9Uu196P78afVlTB05GSM9h0/a/XyQN2qpLz7nEjACqhzpjllB7u9xqh6UlxdjcPBZp67E76DPROJ7HfmTXrLboOKKodIVZSjeUhjTRcvO6i8qx51KEaHBHWa30SbS8CaeczB5ovT74kuJezxoUSFYE39OL5+9F7MvNgfqROHoGNNSozL921HuWT1Fy0aeHU5NFDPw6pnJuHN3D5IGT0OXWpb9455gJyB+gWc8p3lfgwVULlKAsqX9vF4Ph3LXngQb2c0x8jUsejbINbyHPBA3bKovBsdSMAKqLPnyHW5HZBx9IhZlEBXaJo9dQYOHUmC6toy0dRpRBGvbMzIQ1V0GBYqXY4MyRwLHhOuSx8OUGeeiX4kyvKqtd/pfznmBdBTBzLWvY0nP9iO6NpNkdy0GspcOI9zJeLRqGkdJJQv42L2+0ks+OstmBc7EmNSRqJtgo20959UkDNQP4e9X72LRTtyUTy+HmrHlcCF09uxbP5OVOg8FEMGtkfN6CB7+YQK9EDdER54D1mUgBVQZ0+dPChdIXgGEhklkCy5DTQMMoE8R4sitnUbAxd5cHwyna0GQryZPHX6oe10OgwZjk6wp040JWirniuPe6jetHyeT0ojb1n3pXrqhQLUfW4qjq6ZgxmfbkJGmWiUOpePYlVboveAjmiSUA6BiruF5qmfwOo3/4ftcd1xTde2qG3dOb48rs5A3ZcLmHkQ6+Z/ivmbjqFYqeI4l5OHii16oV+3Nj6QLwXrkO6VidX9kl1t9KyAOntEurxkHgPpubL3oqsPcv2e++O2IaF6pbpAVc55Nip0V9EzC62zPBh0Cey52BD1OdQohjrGbo+vmW6RiXJs4BTwNfXQVGRooB4abXraKaiHTvnnFjxPPZzS9NpSJRAM1KUnpRtkWNFLBa4T1BlUdCt75jtU0HIy2+VSCxtzTtqx+4wca+mN03rz9u3bjepvDRs2RNWqVY2mw2F0qEZUpOTN1QPNog8FMvxud3Dl/R6oe556KPPHeza4BIKButm6dvBWw3eHCjI6vWb2onQr+0iCOicmyj3yOowaHmfincPv9BkB+htvvGFUXKPjp2vXrv2LyeW0b2Zr9ZGoC6Bm3lO/qJrijz/+aJRCpgJMdIgRnUpYqZL10qRFfA1dtPoaeqe0WZVUeO7zPPXwyPFKbiWU9UUroC6rjOkEOA4FS0Wvy3skmpyNzSDjFECszj1Ww5FKTKR+ymIouiIVbMSotfapXO2yZcvw/PPPo3///sZJfVTCNRyGnYz4MM9yh4XVMQv1Pi72Q5n31KfMzEx89dVXWL9+vbELYO/evWjUqJFRItkD9VCl7XveC7+HQYheEwVaAlZAnRKnSPmQ0pNJTG4zRn2TiXI6w/8ErMQ3XZyw5jaoEy3mmeWt24ginglMuSSvDvpsvBFdAjLOQqe+0Il8L7/8MgYMGIBBgwYhOjo6LAf4yIQ0mmMU5qe2dV/Eo6S9c+dO4+Ciu+++G7Vq1cLMmTONpYebbrrJPVAnAnfeeSc6duxonD/r5kUDumXLFuMcWzXs4iZdbvujjz4y/uzSpYstgYazb++8845xQhWFnmJjHWT7hbMzXlsFTgJm6852OmkF1NV1bB3gxgAnQ9FcnIO+c7sPZmu8btPkcWOQ07HTQJ0rMiqjQ848zgRsdLAJeaxsUNB3FIZ+6623MGLECEMPqkHlUMZEhuCJb50GK/FGhltWVpaRH0A8Ey8bN27EzTffjOnTpxuYt3v3bixZsgTDhg2zhUG2wu+nTp0yrIicnJxfhELsKBKr91Kon4yI6tWrG4X2dV87duwwBE3n6UZiuwPxu3nzZkyaNAmpqanGNhPvurolIEPSJAnybrZt22YIpXnz5kG3nEmA5r+///57I+zXo0cPU+HyOqvZ0auhhP79jaRUtmoInJ8JRZlLuv76z+F33ivulJ4T+dgp1eqk/UBy5zVe9pad8m31LaX+0xryihUrjJBz5cqVcc0116BBgwZGEwTqb7/9tgHqycnJxmf+jDszWfj7TM4j3iserMCRnfaDyY089F27duHLL780ImBNmjQxnEcKtz/yyCMYNWqUkRhInjqB/g033OAeqBPQ/v73v8fAgQMvC9nSAF70HTF36iROZ/vCeLHlERtdGsWDnGyyePFiw1On9ZS6detaIhPOm8haIoH37dvXlkDD2QdaT0pKSsL48eM9Tz2cgi1kbTEA06ll9E7QbwpVknczZ84cw4OZNm2aoQzluiOzSd9T0g0Z5bx2yd9t3brVUBzdu3e/7AnJ9VSmbfaZqmSlsjTzqmRb/Kzso1SG9DeXDlWVpFTsqoKW3/FxlnSPP57kPWpb9IzMtObkOeaDvuNQrtyeJPnk9iUoqP1nOrJ9Xm6w2z63JeWvts/yUPsvjT55FCh9Lo0tVWZW22eeuC0Ct++++8448nTdunVGQtzUqVPxwAMPGENBc5OilQTqdPwuy8df/9X2WXZq/8lAlXOL3gn+TGbf+xtfOSbq+BIttX2OBHC+BOHo008/jX//+9+Gl96yZUuDT3JeV61ahTVr1hie+scff4y2bdti3LhxtjDIlqfuLFHOdwTqtiX4enO67wWJRUKzFmhYozJiS7pZUc4X3sg941NimcjJK4Yy5cqjbJmSQQ0JqevDs6buU6Zn0pGZV8K3ZhODqJJ2dql72e+FDHtd7S4piz179uDdd981EojoqEjybEgB0DV58mT06tXLWItTL3qW3l1as6MoG4MKfZ6WlmZsFSJQZ2Ula66zEaCColT6rCD5M/otjQdWaqw8ZfvyO+q3VKS03inX0q22Lz1Os/a53jb3m5U+KWMGKD7fm4wnKRdW2Fwghttinuh7K+1zFIJlRXRYZrJkqp321b6yPPkUMvrNPBKgktMi+8p5BHQPeevcH44e8GdEh9qy274cC2qDws+0zElLuuXLl8fJkycNAKd1dLr3wIEDWL58uQFs9erVM2jK/lO4nj5jvukZ7ht/xu+COl6y/xTx4rZ42YOWBCg6KtvnNkhOJAueP0TDrH2aS9QP2T59tmnTJsNRo/c5Pj7euOf1119Hhw4djHYoSkzvKY3Phg0bCmL2+xl888/f4OWsvhg7oCua1q+BiuWiUaZEYB3ofEtbPrIPbcKq9buQcd6XeHHxLDKRgObtklC/WmzAgjfhBvWL2fvxzdxPsPFiU194sxMaV7F3VJyX/e4qThaaxqXnRyE6yjehsCWBMUW0KMnnoYceMvgxC/3R8xRiJ6VJCkl6waRASKGxpy6/IwVH97NykkVg2DBQw6HSo5PGQzAjQHpO3IZUvMQbK3T21JhX6ZGZ0WRDgeUj+ygngeSFaZPCld5vsPZV707S5O/UMZL9Z4OE7pW0peEkPcVA7TOfZvJhAJRtmSVFqh666i3zfFE9e7P2pRdL9xPY0ZrxPffcY0SfCCjHjBmDRx999HLUyGr71Lb0iNUxl9/JcabnqB8E4JJXtf9225dzVPXUCczvvfdeI9OdlnfJoHn11VeNSBsbhfT72LFjWLBggRGtLkDZ73nIOrkJ793z/7Ch4UQMH9wbrer6vOYoXyZtEJXqGNTPHsTiV/+Dt7fHoMvggWgXewALl55Boz7d0bllIqzmOIbsqV/MxN5F7+DxR5/Exsa+w2V+f6OtE9pIPB6oFxrcdbWjaviQ/v/6668NL4b28tK2lz/84Q8BQV0FL/6f1tTJQCBQNwNoDhmyB+Mv9M1KjA0Qf2FtGeJlJcrPqkKUilR+J0HWHyhLo0O2H6z/fK80MmQIPlj/rbZvJh+ibSZvJ/13In82KMiYUMPQsg/hkj/RoEgRrR0vXLgQVapUQUpKirG+bGag+jMgVfmY9VX9jPnjnBEug2xlfK20L+UvjThqn6IA9N49++yzhiFB+Sy/+c1vLh9mw3OacsrmzZuHfv36FSRQz8ahrcvwxp/+gS31BqNXl+7o1KkhalaKRbC0L6egnr35DTzw5E40GT0Wo/s1RgV7Ee/LOiI0UPd5Rnvn4fVn52PF6jk40+UOTJvigbqryHeVNM5Kh5QRhdMJ3GvWrGlY82ZeupnCk16ECuoqeJqd0qZ6uqrSUhWyVJSBhklVqEybk5hUpc5tWW1f3u+vLQZWDv2T9+i0fSlnVa5mMqN75L7pQOMpQVe9TxpLKs/+5E/PcO13zkDndsLRvj/+GeQyMjKMcLPMCZH05ZxTeVe/MwNmfwYkGTL+TkozazdYZEqOub9x4DlGOS6UF0PJ4PzOcN/p/wIK6hd8a8rbMOPue/FD0+sxckhvtKhBa8u+wyGCKGFnoJ6Pbe/civ/bmYwxvgzC7nXL4GKR4ihZojiKBTkVTu1OKKB+MXMv5r32H3yW2wK1T8zG7nK9MXS0B+pXCe4WGjZJgQTLfpdKxh/IuMGwGV274BpKv3TzHchQCoUPO89yZISjMmagZKc9q/cSHUlLxzwrKPJWwVzyXoDLxO7DLF9m7tqmt/rONu+LJhaPNncG6mew+NHrMTMrGS3b9UBS1SLIPpmB4gmN0LQhnd/uCytZnGmOQZ3C7vOm4/nPc5A0YiRqbHkYs0+2wxAP1C1K3rtNlwSsgLpMBiKFo0PhMv8ciuY9xLpAnUGGFa787fbYMG0O+btNT7YvEwx1yZq9Vu6H7jnGhozuferEr0wYNTOgPFA3ZsV+zLlnGj44WBrRjXuhZ/OKOLtlIb5Nq4fBk1LQp1V1WD351BmoU9h9PqY/Nx95rYdj+JBOOPHW9Zie7oG6TuXk0bImgWCgzgAjw6C6QZ2TjAKFy61xa/0uNiboCbmebr0F53eqa+rOW7L/JIf+de1T5x4ysDKguz3HpJfOtCNV+53ntzRq+G8P1A1JHMVnD/wG718YjMm/nYgedaNRNPt7/Pe2V3Cqa6rvbPXu8EXkLV3OQP00Nrz7GF76oQyadeiGtjWi8eOHD2HOySboMfwmjOlUCxXLlrIcLfAS5SwNlXeTQwkEAnX21Hg7k1nxGYdkgz4madPfuuqvS5Dh7Vy6QJ15lp6j2+CmDgSDOgOcjmgBG46cVc+h/6CTJIQbZBSC6FL+RCRqvxNt3lqoJnYSex6oG4N8FmtfuA2vnOyM61LG+NbUfaCevwsf3PlnbGo0AWPGXotmFsP/zkD9GDYtWo7124/gzE+Tbu+S/2FpRiKSB/0WtwzvgEa+bXXB8gl4vnqgHsKb6z0aVAJWQJ2UDik92vamI0Qp17KJNik+UrgMcDqAjmjSNicCGJ1eK/HOwEry1nkRbeKZfqgIjIzOuNkPBnWuCyDH2i260lMneVNhJuJZ90U8U6Ic0ZZbIT1PXRmJU2texMNvHkX9PsMxqmc9lD66AP/661coN2A8xgxrh2rB0u5/as8ZqP96Wqx5cbIXftf9tnj0LEnATvhdhwclO62ua+sMv1M/5JY2+l+HMUF0mG/da8vMc6BwsKVJ5eAmNmbktkkHzdh6hIFdzduw1UiIN3MUjCMjXDOgEID6QXz+8N+xpcEEDBvUGfUslnF3lijnE8eFfVj03PtYcyEO9VvUQqkDK7HoZAMf7T7o1CAu6P54Fmi4QH3jO3fjw1Ot0GfgGFxTy5717XnqIb413uMBJRAM1OlhTubRqXC503IPsWTEbYBlkCE6uo0ZVdHrnMLkOXJURpchI/M2iKYOecukNJkcqFPW/G6pof9Ckv1+GjuXrcLJik1Rv66veo5FXHMM6iSt8+nY9f1KfLf1GC4mJqFdqyaoGVcGxa3GvX1NhAvUj21ahJ3nE1CrbiNUi7XRAV8fPFDX/ZpdXfSsgDpLRK5D6pISK3xZyU4H2MglALcNCFWWkZCzHGPVU9cx1lLeOsZX8kvjq3rIOngmGpxHYLaeTt8X4DV1ZyIKCdSdkfzFU+EC9VC64oF6KNLzng0mgWCgLr0oHR6U7K+kHcktbbL8aTB5hvK9XOelv3Ukqan9lUmRusBVJggyTR2GlLquXhCy31W+PVAP5Y0yedYD9TAL1GuuwEnACqirZTR1McEhcPotFa4Ohc8hWaKlM/OeDRk+ZEUHr3I8KRRMyYl8zLMO+gzqfIgNydttuhLQOQM9EkdbE8/+qtl5nroLmsYDdReE6jVZoCRgBdTlvmmd3qMaJZCC06H0ZaKcjqQ16bEy6OiUN8mXDTgJrDpkzQYc09VBk+cTRyd4l4POF5S30zFtNUKjzVO/7bbbMGXKFHTu3NlV/r/44gvjNCo6ML5p06au0jJr/LnnnjMsxuHDhxsn6UTieuyxxwzadEwfHbXpXZ4EwikBK6BO3hspe9pqpANk1LAoKT5V4bqt9FnZkqwjtaVNx9YuOZdI7rx9kbxWHYYM0WfjjWvty8NkwjnXVV55DnF0Iioqyi1yftvl7XSy1r58x7SAOhWYn+Yr+UpnNtetW9dVIWzcuNE4b7ZNmzZISEhwlZZZ43QsHg18cnKycXh9JK7PP//cOCN7woQJEetDJPj2aOqRgBVQV3viNqAyPem5RiJRTk1Yc5tvdU1dF6iqYCeTxtzmWY4180+f6aArk/MimcMgx1nKgOSgBdTpVBk6+5asm7g4i1VcHOqnAwcOGMfy1alTxzhvVvdFB9mTMqlduzYiYcURv+vXr8fYsWONH7bmdMvBo3flSsAKqLMnpauymqro6f9IgbpOYC0oiXIS4HSAK42vNOB0yVxdV9dRWEnVJHKPvAro2kD96NGjhqc+depU4/xlNy8v+93b0ubm/PLavqRMA53SxoAuvSedip7pRzr7XcdcKSigHqniMzIyomuO0bgWhOIz/pIxtXjqhQfUfWUe0/di07ZMxNSpiZpVysHi9vjL76/zRLmLOHvqCPbv2Ye0k9m4EFUJ1evWQfWKMShlb5u6t09dhza9imlYAfWrOVGO5KMr+116qxwC15HDIKe/eqCLjlA4G26Rqv3OyYGRSpSTtd8LUUU5Z1rTuafuK9B/7ixOrnsLDz6yBfV/OwUTB7VEvM1uOAX1s8c249tvV2Htpt04fSYb2eeLomyzXhjcvzOaV49BCRv98Pap2xCWd6ttCVgBdVI6nCinM0RJfeN64Jw8pcuD421OJFBS9jpDwroTE+VyB4011X6npT6dPHOSHhkxOhLlJHiSvJln2y9QiA/Qe0W136Ojow15q1GSAuqpn8eZI/tx8EQ2crMycDLrHC4WLY6YhPpoWKMKykUV8ysW56DuK9CfmYnsPZ/gwfu+R62bJmLSiNaoYnMAnIL6yfWz8O632ajVqTe6t6iCs9+/iIee2YbawyZj8vBkxBe33hEP1K3LyrvTvgSsgHok1tSl18prvAzoZmuP9jkP/ATRkNW+dHis3CMZGdFlxDDtSJUE5m1lOksR8zyKdPhdRoMikihnN/x+9uhqfPr5KuzPKonSWT9i6bxvcLx8Y3Qc+Vtc3781alf0HxRufJv8AAAgAElEQVR3Duo/TdH9c3DvbUtRZco4TNQI6r9SF+dW4dmbXseJ1iMx9jd90dDGYUAeqIdbXXvtSQlYAXVZZUyX90Z9pL6ZFSTRBeq6j16VoE4yj0SFMxkl0GXIsAEnwdVtY0au3/P2xUgcvUpzjKIjdCIf8VwIQP0cfnzrTjy6rR0mjB+JXvVzseivt+OD0sNx08ThaJ8YeF/glQLq5w99ikceWITSPa7DhLGdkFjSOrB4oG5dVt6d9iVgBdRZuUtFaJ+S/SeYngQX3X2w32vnT+gwVoL1To3K6OqTHGuOzATrazi/18Wn2mc5n836UADD70fx6f2TsKj6HZicOhAtfIvaez64FVNXNcI0n/c8IKlSwHG5IkD9wilsmfkEnlgZh96pqRjVPsFWwp4H6uF8db22zJRKoOx3up89KPbS3faiuI8MMGp4UocHybQlLbf5ZqXOoX/dtfZ5rMl7pDwCXQaUlDXL221Zy/cg0uH3QLsNCiCon8Div92EtzAGN0wajo41zmPN89Pw+JHOmDp5NHo0CFzQpfCD+nlkbP0ULzz3GS4kj8fYkd1R1+Z2ew/UPSB2UwJWPPVI1n7n0L9MntLhVcna77rXeeVyh87sd17uiNTRq7zcobP2O71bRFfy7Ob7pratht8LRfb7sUUP47b/nURS117oXi8LK2YsxMWuU5AyqBPqlPOfJEfMF25Qz0f24bX45LXXsKRUJ4wbPQyda5W1PV88ULctMu8BGxIIBOqRWOuUXjp7jvRbBTe3PTkGOKKjq+hOJOXNcuctbbyer8uoYCOK6OmIUMhwf0Gp/c7Z79rLxNpLlDuHQ0uexVP/24SjJRNQr0IeSjfujcEDOqFxlRgESwIvvKB+ETlHNmDRh+/j071VfWH3kRiQXB3RNpQt3+qBugOheY9YloAVUOctbZTME+gY0nCFa6XCJdr0v5rE5Dao85Y2ohOp2u8kb50XyZm3tNEWK11r2xx+58x73kLoJu9yqYNPSiOedV+8pS0m5ufsaTm3C2D4PQPLHr8J7+YOxKBBvdGyanEU8UmteFR5lC8bhZLF6T//l2NQz81E+ulMnN33Gf76x5WoPGYErhvYFrUrxCKmdEkEjg/83B+nW9pyjm/F1288hZfWlEOXMaMxpG2iAehFSkajfGwMokpa7YFXUU73S3a10QsWfid5SJDl/+kzCllyuJBCpuEOU0u6cjsb9cFtUFf51kWPM6B18ajOd3U9X8dSh5xTLOerSd5sPJkZxQUQ1HOw9c178fA3MWjdqRNaJsagWF42Mk6dR4WGbZDcKBEV3Nin7qskt2HHfhw77POW5+9DTFISmjVqjCZJDVCzcqzlRDWnoJ62/n28+vpSnEpMRuvmtRH3U0iiaLkaaFK/JqqWL20ZOzxP3bKovBsdSMAKqBNwM8iw4jl48CB2795tgPrZs2eRmJiIZs2ahR1s1SSmcEUDgokqEoly3CcGVp2Ffpi2Wl1NF6jzHON5pgPUC4q8Sca03FE4QD1nB2b95R9YXLUvRg/shiZxvlpqOcew+IU/4r1iw/D7G8agSx3/m7Yde+rns3E6Kwe55y8pI+MqWhLRZaNRumRxWK3U6hTUz+ecQVbOWZy/8EvVUbRkGcRER6FUcas98Dz1YMrX+z40CQQDdTNwy/QVdpo9eza2bt1qnNa4dOlS4yTDu+666zL4h9arn5+OJKhfrcVniG/dJVPZkNG1w0KG32m2kTETiboAstAQz/qCHX4/Ph9/vv4DlBx3PSaP7IiavsLn+Tlp+OalB/DCqS64ZcJwdKkb6/f9dwzqYdIoTkE9TOSNZjxPPZzS9NpSJWBlTV2tcEanF86ZMwcNGjTAwIED8fbbb4NPbwxX+NQsaYy9OB2jSPR1F59hnqWnrtNjZXDjwje61tSJLiercWKi23xLr5iT9HQbMsw3LWNxHoEaGSl44fcLe/D5E89hORqiVctGqBLtCzHk7sXyBdsQ32sMru3aBPEB6s94oO6Bug4FXphohBIOVdfGmW/ep86nLqrr11QXmxRP6dKljfD62rVr8cUXX6BVq1bo168fZs6cCU6gNYJivgxmutS+Wg2dS3DjdXtKlFMNBrvtS+8sWMlZ3mpEvKjK3h/g2GnfTD78GWegq4ly4Wo/UP9prClZTibK+ZtzZp8Hmp/++i/5pnv8AZw/mfE8tiof9T2QiXJO+h9sPkj9orZPtLOyskCJcrId/ptAfd68ecZ7VqlS4Loukk4RH6GLVhWbvex3X1jj9F6sWfoVvl2zB8ezLqJ0tbro0LM/2jesitggyZ0eqHugbnVeXg33cSg8JycHJ06cMMAzLi4OUVFRxro2KQc6iIN+VEWiAqpULmagzveTgs/IyADRLFu2LMqVK4cjR44Y203pIIq2bdtiwYIFBs377rvPIMsZ8uxZq+pFJoMFGjfml9vh51Tl57R9lbbsF9PmcPAvFOZP5TztfmbGt5oYJ3m2K0e1ffa0rciHnw1UiCUc7fuTmTTkWOZm/XfCE9Pk/psZg1wAJhztSyNDjiEbJepnZLiahf6pv2lpaZg/f767oE7K5M477zTOUm/RooWrunT58uXYvHkzevXqhTp16rhKy6xx8kDoIl4rV66snT4RnD59uiHnVF81OlKo3nX1SoAUDoH3qlWrsHr1auNIUEpOa9euHcii37JlixESb9KkiSmoS2UpQV6CuvRgyYvYuHGj4SmQMV+/fn3079/fSIqjPixZssQA8B07dqBRo0a45557fpHs4w/EWLkxWEslqCp9WfgmEAhLxR2s/WDgys9z3XmpcNUohjQwpEztAKnKl1nBHZUnp+0H6z/XfqcogeTHiszkeKpGpFn/VSOKcxhkXQAzPq2Or5nBJOealIU8/jQc7bMs/n971wJcVZFt9/AUGJH/L2D4RpChVH6SMPIfBiVA+AcCAhLxBwSp98oRnXL0WaOUP6RKR0UggIiFyCg+RSAgCI+PQTSShHmOgEECRRjeI4xEBjKCmbt6Zuc1h/s7957ue5PsU5W6yc05vbtX99mr9+7du0PVH/+Hd0T3yuiTVyuWOtbO5s+fr2bpjRq5TI/mUh9DkcBKaN26tbISbF+I7sXVqlUr5XqMxYVgpGnTplF6enrM6hCLdovMqxGA0jt06BCtW7dOrffi/SspKaFBgwapsZGXl0fJycnUv3//q0gdX5w9e1bdX15efsU2tePHj1ODBg3U5FV3YZaWllJ2dja9+OKLVFZWpiYLsMZHjRpFBQUFyluA5woLC6lx48Zq4qkrJL0s3QLSLSZ937uTFP1ZOf7KR9t4a10ombqyRVl6Bi/9WUyY2GplJe+sK+7n+/A/juDm3wOVr1uFOsk4n+OANa5jNOUHwsdZfycGGGfO5RR/9efvmJjZ4xAKH5bH69pYZtHryvj4K5/X/nV89D7xhz/awkFxPGnj77iuTPZ8X6jynZ4FPIey9PHM1jjjg3bp9cDEkSdzej1gqW/btk1Npo263/FiQ3Hc7NsqFvwqpx9Kz9PlOtdTvetqU4ht6VcVtXv3bioqKlJKq23bttb1PCx1gI22Nm3a1Lp8CISljrXLyZMnKwUqV81FAC99bm6u+oHbGz/4HVYzLlgbeFcCkTomBPB+YWKuu5eh1Hr27El9+vRRa+dQKlA4ePcw/lavXk2IeE9KSqJ58+apCSasdES94/3Auzl48GA1+eWtOfhEfZgIWQHr5TNpsRLU04Q6v3OSBNZdUT4rVFaQzvJBEvydToq6QmUy1QkB5WPyg/Lxf5ThLItTi+rlcxnO8vG9Tkx6/VE+2sLfAX8+Rx4WnLN8YMskwaSL8vE7yuBPxofLR/3xHRMOnw6ml6WXx2VxH3K5jAWex4Xy2NrkPsf3+A5LQ/gOdda3y3F7WR4++UxzxhV/48Kz6Atg4a983Md15THlLB/46H3IWPD9WF5CHAHK4nwL8IphWclZPp7Vv+NJD+OJ/2GSzYmTUH+UBSyc5eM7tA33614SLv/06dNqeWvEiBGuOMjgmvpR2rlyH5V3/SXd1r0dNXFxOhk605M19YqLVHb2b3TZl/il3nV16Nrwd5NRVNHvFZfpQtn39MPf/k4/q1ufGlx/XchkO/7oSqLfay6J+2s5rOoPP/xQKcgxY8ao2TteekxA4c3C5K9fv34hQdOtiG+//VYpHbjy9evcuXO0Zs0aWrJkifKYdezYkbKysigtLU2RHdbwobgg18vtQLq1GMgVHbKBUd7AliOTiu5mj7LogI9znzBB6/nuTcnUy2W5TH7c5mjbrven7vJ2el140qXvz+dng7U/nPLxvH4f/mb5kBss93sk5TvbGaj+kB3K/c5r6jAsw8FDtc13o6FAuVxaOHIFVWTcQ5PSU6iNy6yH0ZO6L13riT204aM/0zXdBlP/25KomYuJRcSkXnGeSgrz6U8nSuniT77zcsuvpWadutLNnX3JduqGSo57ZfcLqdtQZ1VDBr+mcHfD/X3LLbeoHygQWM5Y/x4yZAh16dIlaIN0Kx03wiL3R+r4H9z1GzduVPIGDBhAw4YNuyIQL1qF76+iujpiFzgrehPy/NVBd72zN8C0bG43T2RgAdpMQMOkzl4VbreNt4PxtoU1kzw+Ge9Yb2njiYaON6+p471DUGy4lwVSn0FjUrtQw0sXqaJ2A2qoUsTWUiljg13RknrF+WLavuppemrhIerx6O/p36f2p/YulsYjJfXyUztp2UtrqThhIA0f1J7++sn7tP37NnTnpPH0q5t96/MuvAVC6uEO4+p/n77+yOt8TDRsWYIIQlnNOmnid8SOBCJ1/J9zv8PtqB824Qy68rIH2IrSt7R5WX6osth64y1tLuyeUEUH/D/jiTbH6tQwfUsbk4zptqPd8DzxMoOeXS1iMEM8yOMLt/GWNueuEVOy9XIxzuB+hxs+EKnDUseaOuJWwp1YGib1N+iUL9tU976/oOZURv93uoISuidTry43UMPawdktKlL3WcvFOUvopZzPKW/9DzT48Uco0xKpF//Xo/TUlwk0fNxUGtu9GdU6s5sW/e49uthrjC+YaCB1cHFugJC6jVerasjQ3bOBXu5wX3rdUoH7HYGvzqh5/R627v0pejcyQyEdLoF4KdNZp0B1sClTd02HwszE//XlGRPl62X6w9s01k43tkl5wfBDPfxNlPkZBKMiUC41NTWeLPVnaecFos7TZ9HkXvUp/41F9GnzMTQ7cwyltKkXNGVr5KReQeeLc2jJwo/oUnJn+svqb6j5+Mk0yRKpFyyfSW+c6k6jJ9xDd3QGg/uCHX7/G9r+8zto9F0ZlNJKDnQxrSiqc/mBlGC4itj5PALosFaPQDd/F6x4BNfBktIVkA2M9TV1G/JYBrui8beN872dEyj8bRtrtlrZ/e7PcjTVB8CbXfChPE1e1EGPsGfZNuQ6647JBAIA4Vr3914jQPXw4cMqjgWB0uFOPgxb6s/TX349i+7NHEKdG9aic9v+kzI3NKGM6RNpdI8ECrbEHSmpw+2ek72IPv4xmTImtKQvf/MeXbgjwxqpl2xbQAtyfqLbUqfQ+Ntb06XTBfT+i4/Slp+Po3vvnUm/vjFIGj1Hr4ul7sUrLGX4Q4CVCAgdWyc5mlm/F0rk2LFjBGseWa/YTWgKUd2CgmysKcKL0KZNG1MiA05kIBvEislOuMo00krqCh2KHEGILVu2NC5Xry+IDtuIEUeBXP6m26zL5sxqcP8jIMy0bN3rhe2aeAdC7+aKtHcDP4eoe2w1xZo5b3fTxwJwwNZV5KLgyWU42BgmdUegXO5LNGrlZUrPzKCJKW2CnpgWEakrt3s2LdpK1Dd9LKUmn6IVGSvpvEVSpzN59NbiLVTSsB1179mO/u3of9PaN7Pp6M3/QY9l3UO/6hh+xKCQuvcvUk0vUbfow3F3g/BPnjxJ3bp1U9H24TwTCcb6OidbrpANF2Tfvn0rt6/pVm0kcsJ5Bp4JJL6C9QaFavMC1jgFz7ZcECsSESGx0ezZsyvxNtXfOqYgc0wmAi0DeY0/xhqTKAj9008/penTp3stJmR5yM6IcxTuv//+gHj788CFIvbqRern8mnVU4vpzy16U78BPSmx3v/QmofX0/k+w2ncjDHUO7ER1asdKkTvn30RaaAcnv2x9DgV5uVS4YlyatGlE33/0cuU33Q4jc6YTH1ahx8pJ6Qe8r2QG1wiwOvjzqQizmL4vm+++UaROvIl2MjXoJOITupsxYdSaC7h8Hs7tvAhQx8ionv16qXuMS2X8Qa5gdSRh8CmCx7LK0hg9MUXX9CsWbOstJknaCB1EBws11C7N7zoXy4DmIPUt2/fTjNmzPCy6LDKwnuFLar33XdfJak7x5mesIYLDTUWqxepl+TT5j0H6Mipsn+1/xjtXL6bznfqTSPvm0PjUjpRQv3wSDUaUtd7tKJsPy3+7Tv0Q880mjBpEHW4MjV30M4XUg/r3ZCbXCIQzvo738OWum1Sh+ICscINDkudg4pCKTSXUAQkdVjqIHWQq01Sh6LHDyx1G21lAHRSf/DBB6/wjHiBaaAy0K+IAEeb8QlSt9FunkSB1Hfs2EF33323yWb6LRtt3rBhgyJ1Tk7kb3LN448JPhQ+1YvUr4JuP/1hol33+09lJ+m7//WdatW4GTWpc4GKtyyjl7bVol9OSqcJ/dqTi+B3OXrV+mtWMwQ6XaqBlATuA6nDesQZBDbWO9l6wydkg9SdCXVCKbVoexGWOo6YBamzG9y0TE6+wqSOlL82L5A6u9/nzJlzhWjTbUcwJtqNT+zCMC2PCR1yTpw4oSLMY2mpYxIVbKLNXqpwJuNqAuC70VDymTxamvlHqhg9idJGdKNW1/qk5S2lme/9RGnpaTS8e2sjgXJXvgj5tHL2H+niwFE0cmxvSrSQfObvxTvo/R0n6FLjRGpb/6+UvzmXLt2S6sOgH93YKPzId7RDLHWbak1k+bMSYMlgXRsZ5dxE4EaKpq6OiouLVeQ9J9kJV6lFKpsnFAhWQ4AggpPYHWyDaDg4EDm/bVmsjBXW1LETAhMpZCu04Z1g2XC/Y4zBUm/fvn003RfWs7pLG8GBOE4Y28ZsX5iw7tmzh0aPHh2U1N3WyyCpn6S8DUeo1i+60I0dW9D1WMo+mUcbjvzMN2A7UVIL3xmyQWobUaDcVeWd8pHqYbrcoZPvBKsECtPzrkqJ3P3+I5UWfUm5+/5Exy42oi49elNP7Muv647QhdTdDmW532sEQKKckxpWK+fF9loOl+e0LxCRDwWMbT96IJ1JgkUdOPkM5HCmMZMyeTKBT5ArfpznqZvCXC8XpIofPkDLdJv1fud893yeuqn26jEl+B1jDJMK7O6wfaHNiCNg2V7hbZDUo4PIG1KPvA6Rk3rkMp1PiqXuHZZSknsEwnXTuy/Z/xO6W9R5h26le6X8AtVbb7etAD1n20230V/b9TrYarc+oeE6mW673r88WTQtMxDe+vde1UFIPcCbLaTulaqWcqoqAjqR2nB9Oy123Tq3SeqxJhrI90rBRzL2mNzxrI0IfLdrxpG0SX8mkojyaGUGm0Cir8MNggunHkLqQurhjBO5p4Yh4C/UxibROBW9CYsmHEvdFsFye/15KGzi7pzQmJYdy3Gmeyac7QzUH16rAX2ce4W1a1KfO3euLzPavVed2+x1Yz/++GN1VvTEiROvOhbSa1n+ynv55ZfVbHncuHF0ww032BB5lYxnnnmGWrRoQXfddZeVPcIxaaQIjUsE/LnCvVI64TbY6R2w5S2IlSvcH8GZdIMHWl4JRnbh9p2b+2zj7Q9nffLGOxG89FIEIm8TS1yuSB1bPUDqnTt39gWedXLTb67vzc/PpyNHjlBKSgolJia6fj7aB3JychSpY0sLTsiJxYVsQ9jOM3XqVGrYsGEsqiAyazACsbSiADsrV55MmCQ47mbbBOOUq/+NdusTKa8nVdy/TlzxN4L1bOS918kOv3tJpKE8MSzPiYOpeviz/gP1QTRqxxWpQ1B2drZKJYiIQdOXLRdIsM73+kVyixms9IEDB4Y8UtNtuXK/IBAOAjqx23gXdHn6OiN/b1rpx8pD4VTugfrG6z7Q26vrWxsTKH0Co7fX6zbqZfvrX/zf6Z0wVQfn+4S/nUcph/NeBrvHNalHK1CeFwQEgaqBABQOttxgP23dunXVUpDJixUeDAakSkVCEmxxgqeudevWVoLHOBHK6dOn1daudu3aWdnuxG3HNie0HZgj3z7yz5vazqfjDayRkwCTJuQjSEpKIpwxborceBxhCx2SG+EHW7vatm1rxSuJQ3NwUBEOdGFSR3Il5AcwMaHRPRLwgiAtLnIh1K5dmzp06FC5vOoF3q5JHZ1/7tw5Ywc7mFQaVbFsnBKFk3rkEgRsI1BaWkr79u2jAwcOqIxyI0aMsFIFJEHBllYoXSg5LMEhtqVevXpGSQbKtqCgQB2ygQQ0ULgDBgygoUOHKle0yYstRSRDefXVV+ngwYP05ptvKoI1ZcXy8gZkrl27lnbv3q1OxMNEJj093fhECm0Gsb377rvqhDjoOaTltZEIBpOId955h44ePar6Grw2duxYdbgKX14QrHPMoM2QtWLFCkJyJUxau3btquLUMN68kOma1NetW0eFhYUqKYVc5hEYP3585aES5qWJBEHg/xEAoeN9h7WO4yFHjhzpidIJhjGU3t69e6moqEgpWSz1IePXqFGjVFY7r93vujsUHgLE0oBQJ02apJQ+SOeVV14xngwG9cApZSDWhQsXqmNuV61apUjdhOXI1inKxqE9a9asUdncEEOUkJCgLEevsXb2O8YVTkjbsmULITUtPAX4sZGHHRM4eAlgsWN87dy5kx555JHKSZQX5Kq3V19eQTpexKYtWrRIpanF9ulNmzZ5Zry5JnUAAPeQkLod9Y+zjTFzlksQsI0ALAm4gWHVQCmB1E1fTG7QL7Bitm7dqggewaI4+hWXlwqXLWRuF6xXBARD8W7cuFG5RqGATVvqkIt888hDDg8FsH/rrbcqs7uZajewxOlsixcvVsscwBwu6DvvvFO5372Wq48fuKAxcUJqWlirkN2/f3/jZ5vrrnDgvHLlShX8nZGRUXlwkNfxXPqaPbwDzz//PMELi4x2OFMdxO5VFkHXpG76pZbyBQFBID4QgCKCa3LXrl1K2dlwv7Pyg7LDDhiQOhTuhAkTKkHxktR1MmcCg7WIIzGxDIDdJ2g3XP+mLrQZEye0FdY62oflh+XLl6s4BrbynNHw0daHiQu7jNBekAyWXHJzcykrK0tZ7SatdeDMSw1Y4sDfcEEvWLAg2qYFfZ7xhLUOr/OSJUsI24fh/kd7TWxp46BPfKKdb7/9tnL9o71Y2poyZYqawHkxtoXUjQ4fKVwQqLoIQPkhkAguYSgjkJsXSicUInDLwmr95JNPFKlNnjxZBeqZks0TCXwiQA7EitwUsCJhrcOqMnnQCLCF+xeW+e2330449hXECves87Q2LzFgUkeMFA6RgUcQExms5d90003q5DKvJxJ632Mis3r1anVoz5NPPqmWWrAMgOUO0xfajnZjqQdtfuihhyoDEvE/ryczjDUCMTF5e/rpp2nz5s10+PBhevjhh5WnBN4KLy4hdS9QlDIEgWqIABQR1hxhqcOqsUHqkAnrCS5REDkC5EDscL1jndlrd7C+pg6FC0WLwEC4YrHeC9f0E088oaKyTV2ow3fffacIBjh/9tlnSu4LL7yg3NEm19TRJkygsKYLlzssdQQKoq+HDBlibCIFufACYbkBJ5U98MADCncQ+7PPPmsKalUu9zmWORCwhngRxtnr8cUNYZkYYxhXmLC99tprqt8xiXnuuec8O5lPSN3o8JHCBYGqiQArIQQTgWRBNn369DHeGFitUPQgGWyrwlo23MKwWFu2bKnkm7CiUC7aiOBAEDuiwHEcaPPmzWnatGmerXf6A1D3FKD927dvV96R+fPnq3VttNfrNV4mN55QgMixfQ6TJ8QUoM0s22Sng1jXr1+vgvMQv4E+T0tLMynyClJH1D88QQjCNHlx/6F/4XZfunSpWlaCVwiR/4899lhlDEO09RBSjxZBeV4QqIYIMKnjE+vbcMNi/c/0BXmwZnhtGfJANrDSOVjNFKkz0WHJAcSGdXSss9rMrAalj4kUAgV5Hd/r9urWI+QBc0T+o834HcSOoC19Ld9Ev6N8yEd/wwUPmcicif42eXG7gDFkY/JiOhBS9whxH2PSiLY2adLEs+1sytPgE1ZhEkApWxAQBKoeAv7UgpfruYEQccrVZZqyVvW6OBO9mCY2nWCVQvZNnthyt5EiFjKdGc2C9YHXI1k/Mc3EWra/+sZibHOfch+jb7nt+hjz4h0TUvd6lEp5gkA1QICVELt+WRmZbJpT8dmSyW3yQqFGg49zAmF6QhGM3ExMoCKZyEWDZ7BnnecK2Oh7fQLDkzf9kydX0bZZSD1aBOV5QUAQEAQEAUEgThAQUo+TjpBqCAKCgCAgCAgC0SIgpB4tgvK8ICAICAKCgCAQJwgIqcdJR0g1BAFBQBAQBASBaBEQUo8WQXleEBAEBAFBQBCIEwSE1OOkI6QagoAgIAgIAoJAtAgIqUeLoDwvCAgCgoAgIAjECQJC6nHSEVINQUAQEAQEAUEgWgSE1KNFUJ4XBAQBQUAQEATiBAEh9TjpCKmGICAICAKCgCAQLQJC6tEiKM8LAoKAIBBHCOiH8aBaJs9Ej6NmS1X+hYCQugwFQUAQEASqEQI6qXNOcxu5zasRhFW6KULqVbr7pPKCgCAgCFyNAI4UvXDhAjVu3NjIWeyCefwiIKQev30jNRMEBAFBwDUCOIs+Ly+Pjh07RlOmTFHPi6XuGsYq+4CQepXtOqm4ICAI1DQE+EhUfJaVldGZM2coISGBLl26pH6HZX706FFasWIFlZeX0+uvvy6kXsMGiZB6Detwaa4gIPR1PQ4AAAK3SURBVAhUTQRA5HzmNj6//vprysnJoV69eilL/MCBA5SamkolJSX0+eefU506dWju3LnK/V6rVq2q2WiptWsEhNRdQyYPCAKCgCBgHwEOgGN3+tmzZ2nTpk20detWSkpKoh49etCwYcMUiRcUFNDevXtpzpw5Yqnb76qYShRSjyn8IlwQEAQEgfAQ0Emdif2rr76ixx9/nK655hpatmwZNW3aVFnt+H7Pnj2UlZUlpB4evNXmLiH1atOV0hBBQBCozgiA1PU1dayZ79ixQ5F5s2bNKDMzk1JSUhSpI1Bu165dNG/evOoMibTNDwJC6jIsBAFBQBCoAgjopI7qHjp0iD744ANKTExUFnp+fj7NmjWL6tevT4WFhbR//36aOXOmbGmrAn3rZRWF1L1EU8oSBAQBQcAQArr7Hb8XFRXRwYMHaejQoSryHdb5rbfeSh06dKBTp07R8ePHKTk5WUjdUH/Ea7FC6vHaM1IvQUAQEAQcCOjZ4hDR7lxnd0a6s3Uv0e81ZygJqdecvpaWCgKCQBVHwGmtc1IZ/t5J9LwGL8lnqnjHu6i+kLoLsORWQUAQEARijYDTOuf6MIHr9RNSj3Vv2ZcvpG4fc5EoCAgCgoAgIAgYQUBI3QisUqggIAgIAoKAIGAfASF1+5iLREFAEBAEBAFBwAgCQupGYJVCBQFBQBAQBAQB+wgIqdvHXCQKAoKAICAICAJGEBBSNwKrFCoICAKCgCAgCNhHQEjdPuYiURAQBAQBQUAQMIKAkLoRWKVQQUAQEAQEAUHAPgJC6vYxF4mCgCAgCAgCgoARBITUjcAqhQoCgoAgIAgIAvYREFK3j7lIFAQEAUFAEBAEjCAgpG4EVilUEBAEBAFBQBCwj4CQun3MRaIgIAgIAoKAIGAEASF1I7BKoYKAICAICAKCgH0E/gHk3pCLFLTBqwAAAABJRU5ErkJggg==)"
      ],
      "metadata": {
        "id": "qgGc0G_wzhZf"
      }
    },
    {
      "cell_type": "code",
      "source": [
        "dataLabels = [\"a\",\"b\",\"c\",\"d\",\"e\",\"f\",\"g\",\"h\"]\n",
        "dataX1 = [2,2,8,5,7,6,1,4]\n",
        "dataX2 = [10,5,4,8,5,4,2,9]\n",
        "fig, ax = plt.subplots()\n",
        "ax.scatter(dataX1, dataX2)\n",
        "\n",
        "for i, txt in enumerate(dataLabels):\n",
        "    ax.annotate(txt, (dataX1[i], dataX2[i]))"
      ],
      "metadata": {
        "colab": {
          "base_uri": "https://localhost:8080/",
          "height": 265
        },
        "id": "EubmLaY2uydC",
        "outputId": "8559e829-581d-4871-c7fe-48f21e7d66a9"
      },
      "execution_count": 39,
      "outputs": [
        {
          "output_type": "display_data",
          "data": {
            "text/plain": [
              "<Figure size 432x288 with 1 Axes>"
            ],
            "image/png": "[encoded data removed]"
          },
          "metadata": {
            "needs_background": "light"
          }
        }
      ]
    },
    {
      "cell_type": "markdown",
      "source": [
        "1. If h and c are selected as the initial centers for your k-means clustering, assign memberships for other points, and\n",
        "compute the means (centroids) of your initial clusters. You can use Manhattan distance."
      ],
      "metadata": {
        "id": "FWCZVn6GzfIA"
      }
    },
    {
      "cell_type": "code",
      "source": [
        "coords = []\n",
        "for i, x in enumerate(dataX1):\n",
        "    coords.append([x, dataX2[i]])"
      ],
      "metadata": {
        "id": "Ux5apE6Z0Qxu"
      },
      "execution_count": 48,
      "outputs": []
    },
    {
      "cell_type": "code",
      "source": [
        "coords"
      ],
      "metadata": {
        "colab": {
          "base_uri": "https://localhost:8080/"
        },
        "id": "NA8huMn-y330",
        "outputId": "6f6b7878-ec4e-4470-ed7a-7fa3f17bfc6e"
      },
      "execution_count": 49,
      "outputs": [
        {
          "output_type": "execute_result",
          "data": {
            "text/plain": [
              "[[2, 10], [2, 5], [8, 4], [5, 8], [7, 5], [6, 4], [1, 2], [4, 9]]"
            ]
          },
          "metadata": {},
          "execution_count": 49
        }
      ]
    },
    {
      "cell_type": "code",
      "source": [
        "def kMeansMHDist(centers, points):\n",
        "    classes = []\n",
        "    for point in points:\n",
        "        distances = []\n",
        "        for center in centers:\n",
        "            distances.append(abs(center[0]-point[0])+abs(center[1]-point[1]))\n",
        "        classes.append(distances.index(min(distances)))\n",
        "    return classes"
      ],
      "metadata": {
        "id": "D9Hd-Ij50hrp"
      },
      "execution_count": 66,
      "outputs": []
    },
    {
      "cell_type": "code",
      "source": [
        "centers = [[8,4], [4,9]]\n",
        "kMeansMHDist(centers, coords)"
      ],
      "metadata": {
        "colab": {
          "base_uri": "https://localhost:8080/"
        },
        "id": "yLQLTNNn15lC",
        "outputId": "3dfeccf8-7a8b-4623-e2bd-5832485b534e"
      },
      "execution_count": 67,
      "outputs": [
        {
          "output_type": "execute_result",
          "data": {
            "text/plain": [
              "[1, 1, 0, 1, 0, 0, 0, 1]"
            ]
          },
          "metadata": {},
          "execution_count": 67
        }
      ]
    },
    {
      "cell_type": "code",
      "source": [
        "color1 = (1, 0, 0, 1.0)\n",
        "color2 = (0, 0, 1, 1.0)\n",
        "colormap = np.array([color1, color2])\n",
        "\n",
        "fig, ax = plt.subplots()\n",
        "ax.scatter(dataX1, dataX2, c=colormap[np.array(kMeansMHDist(centers, coords))])\n",
        "\n",
        "for i, txt in enumerate(dataLabels):\n",
        "    ax.annotate(txt, (dataX1[i], dataX2[i]))"
      ],
      "metadata": {
        "colab": {
          "base_uri": "https://localhost:8080/",
          "height": 265
        },
        "id": "Q9_5ITf62B4p",
        "outputId": "a986f0fa-ec1f-488e-ef74-9e7e87b842ed"
      },
      "execution_count": 73,
      "outputs": [
        {
          "output_type": "display_data",
          "data": {
            "text/plain": [
              "<Figure size 432x288 with 1 Axes>"
            ],
            "image/png": "[encoded data removed]"
          },
          "metadata": {
            "needs_background": "light"
          }
        }
      ]
    },
    {
      "cell_type": "code",
      "source": [
        "blue = []\n",
        "red = []\n",
        "for i, clss in enumerate(kMeansMHDist(centers, coords)):\n",
        "    if(clss == 0):\n",
        "        red.append(coords[i])\n",
        "    else:\n",
        "        blue.append(coords[i])\n",
        "groups = [red, blue]"
      ],
      "metadata": {
        "id": "4hcVyHl14Ul8"
      },
      "execution_count": 78,
      "outputs": []
    },
    {
      "cell_type": "code",
      "source": [
        "print(red, blue)"
      ],
      "metadata": {
        "colab": {
          "base_uri": "https://localhost:8080/"
        },
        "id": "h59E4gCT7y5e",
        "outputId": "4667979e-300d-4677-e5bf-3f717b9754db"
      },
      "execution_count": 79,
      "outputs": [
        {
          "output_type": "stream",
          "name": "stdout",
          "text": [
            "[[8, 4], [7, 5], [6, 4], [1, 2]] [[2, 10], [2, 5], [5, 8], [4, 9]]\n"
          ]
        }
      ]
    },
    {
      "cell_type": "code",
      "source": [
        "def calcCentroid(groups):\n",
        "    centroidCoords = []\n",
        "    for group in groups:\n",
        "        sums = [ sum(row[i] for row in group) for i in range(len(group[0])) ]\n",
        "        centroidCoords.append([sums[0]/len(group), sums[1]/len(group)])\n",
        "    return centroidCoords\n",
        "\n",
        "centroids = calcCentroid(groups)"
      ],
      "metadata": {
        "id": "TRcr5xgp7V39"
      },
      "execution_count": 90,
      "outputs": []
    },
    {
      "cell_type": "code",
      "source": [
        "color1 = (1, 0, 0, 1.0)\n",
        "color2 = (0, 0, 1, 1.0)\n",
        "colormap = np.array([color1, color2])\n",
        "\n",
        "fig, ax = plt.subplots()\n",
        "ax.scatter(dataX1, dataX2, c=colormap[np.array(kMeansMHDist(centers, coords))])\n",
        "\n",
        "ax.scatter(centroids[0][0], centroids[0][1], c=colormap[0], marker='+')\n",
        "ax.scatter(centroids[1][0], centroids[1][1], c=colormap[1], marker='+')\n",
        "\n",
        "for i, txt in enumerate(dataLabels):\n",
        "    ax.annotate(txt, (dataX1[i], dataX2[i]))"
      ],
      "metadata": {
        "colab": {
          "base_uri": "https://localhost:8080/",
          "height": 356
        },
        "id": "BMMYjFnE9V0N",
        "outputId": "f7e7b48b-b1a9-4edb-85cb-b828bbb1c150"
      },
      "execution_count": 96,
      "outputs": [
        {
          "output_type": "stream",
          "name": "stderr",
          "text": [
            "<ipython-input-96-d7eaf661f38b>:8: UserWarning: *c* argument looks like a single numeric RGB or RGBA sequence, which should be avoided as value-mapping will have precedence in case its length matches with *x* & *y*.  Please use the *color* keyword-argument or provide a 2D array with a single row if you intend to specify the same RGB or RGBA value for all points.\n",
            "  ax.scatter(centroids[0][0], centroids[0][1], c=colormap[0], marker='+')\n",
            "<ipython-input-96-d7eaf661f38b>:9: UserWarning: *c* argument looks like a single numeric RGB or RGBA sequence, which should be avoided as value-mapping will have precedence in case its length matches with *x* & *y*.  Please use the *color* keyword-argument or provide a 2D array with a single row if you intend to specify the same RGB or RGBA value for all points.\n",
            "  ax.scatter(centroids[1][0], centroids[1][1], c=colormap[1], marker='+')\n"
          ]
        },
        {
          "output_type": "display_data",
          "data": {
            "text/plain": [
              "<Figure size 432x288 with 1 Axes>"
            ],
            "image/png": "[encoded data removed]"
          },
          "metadata": {
            "needs_background": "light"
          }
        }
      ]
    },
    {
      "cell_type": "code",
      "source": [
        "newCat = kMeansMHDist(centroids, coords)\n",
        "newCat"
      ],
      "metadata": {
        "colab": {
          "base_uri": "https://localhost:8080/"
        },
        "id": "qvYinL44-BHj",
        "outputId": "2a146af7-9fe9-4785-d65f-cd95f42f2f14"
      },
      "execution_count": 97,
      "outputs": [
        {
          "output_type": "execute_result",
          "data": {
            "text/plain": [
              "[1, 1, 0, 1, 0, 0, 0, 1]"
            ]
          },
          "metadata": {},
          "execution_count": 97
        }
      ]
    },
    {
      "cell_type": "code",
      "source": [
        "fig, ax = plt.subplots()\n",
        "ax.scatter(dataX1, dataX2, c=colormap[np.array(newCat)])\n",
        "\n",
        "ax.scatter(centroids[0][0], centroids[0][1], c=colormap[0], marker='+')\n",
        "ax.scatter(centroids[1][0], centroids[1][1], c=colormap[1], marker='+')\n",
        "\n",
        "for i, txt in enumerate(dataLabels):\n",
        "    ax.annotate(txt, (dataX1[i], dataX2[i]))"
      ],
      "metadata": {
        "colab": {
          "base_uri": "https://localhost:8080/",
          "height": 356
        },
        "id": "LnG6wjaL_Zf9",
        "outputId": "fdc8f351-8db5-4a0a-a781-2d9a9245d7df"
      },
      "execution_count": 99,
      "outputs": [
        {
          "output_type": "stream",
          "name": "stderr",
          "text": [
            "<ipython-input-99-4cd7025575ea>:4: UserWarning: *c* argument looks like a single numeric RGB or RGBA sequence, which should be avoided as value-mapping will have precedence in case its length matches with *x* & *y*.  Please use the *color* keyword-argument or provide a 2D array with a single row if you intend to specify the same RGB or RGBA value for all points.\n",
            "  ax.scatter(centroids[0][0], centroids[0][1], c=colormap[0], marker='+')\n",
            "<ipython-input-99-4cd7025575ea>:5: UserWarning: *c* argument looks like a single numeric RGB or RGBA sequence, which should be avoided as value-mapping will have precedence in case its length matches with *x* & *y*.  Please use the *color* keyword-argument or provide a 2D array with a single row if you intend to specify the same RGB or RGBA value for all points.\n",
            "  ax.scatter(centroids[1][0], centroids[1][1], c=colormap[1], marker='+')\n"
          ]
        },
        {
          "output_type": "display_data",
          "data": {
            "text/plain": [
              "<Figure size 432x288 with 1 Axes>"
            ],
            "image/png": "[encoded data removed]"
          },
          "metadata": {
            "needs_background": "light"
          }
        }
      ]
    },
    {
      "cell_type": "markdown",
      "source": [
        "# I did not notice a difference, did I do something wrong? It looks fine"
      ],
      "metadata": {
        "id": "x3us7sKD__17"
      }
    },
    {
      "cell_type": "code",
      "source": [],
      "metadata": {
        "id": "cBNlohb0_ie_"
      },
      "execution_count": null,
      "outputs": []
    }
  ],
  "metadata": {
    "anaconda-cloud": {},
    "kernelspec": {
      "display_name": "Python [Root]",
      "language": "python",
      "name": "Python [Root]"
    },
    "language_info": {
      "codemirror_mode": {
        "name": "ipython",
        "version": 3
      },
      "file_extension": ".py",
      "mimetype": "text/x-python",
      "name": "python",
      "nbconvert_exporter": "python",
      "pygments_lexer": "ipython3",
      "version": "3.5.5"
    },
    "colab": {
      "provenance": []
    }
  },
  "nbformat": 4,
  "nbformat_minor": 0
}